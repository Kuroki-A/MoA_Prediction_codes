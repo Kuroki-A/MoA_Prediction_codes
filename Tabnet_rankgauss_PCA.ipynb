{
 "cells": [
  {
   "cell_type": "markdown",
   "metadata": {
    "papermill": {
     "duration": 0.034005,
     "end_time": "2020-11-10T07:56:41.882559",
     "exception": false,
     "start_time": "2020-11-10T07:56:41.848554",
     "status": "completed"
    },
    "tags": []
   },
   "source": [
    "## <font color = \"green\">Installing Libraries</font>"
   ]
  },
  {
   "cell_type": "code",
   "execution_count": 1,
   "metadata": {
    "_cell_guid": "b1076dfc-b9ad-4769-8c92-a6c4dae69d19",
    "_kg_hide-output": true,
    "_uuid": "8f2839f25d086af736a60e9eeb907d3b93b6e0e5",
    "execution": {
     "iopub.execute_input": "2020-11-10T07:56:41.960329Z",
     "iopub.status.busy": "2020-11-10T07:56:41.959480Z",
     "iopub.status.idle": "2020-11-10T07:57:21.615332Z",
     "shell.execute_reply": "2020-11-10T07:57:21.614615Z"
    },
    "papermill": {
     "duration": 39.699027,
     "end_time": "2020-11-10T07:57:21.615477",
     "exception": false,
     "start_time": "2020-11-10T07:56:41.916450",
     "status": "completed"
    },
    "tags": []
   },
   "outputs": [
    {
     "name": "stdout",
     "output_type": "stream",
     "text": [
      "Looking in links: ../pytorchtabnet/pytorch_tabnet-2.0.0-py3-none-any.whl\n",
      "Requirement already satisfied: pytorch-tabnet in /home/kuroki/miniconda3/lib/python3.7/site-packages (2.0.1)\n",
      "Requirement already satisfied: tqdm<5.0,>=4.36 in /home/kuroki/miniconda3/lib/python3.7/site-packages (from pytorch-tabnet) (4.48.2)\n",
      "Requirement already satisfied: scikit_learn>0.21 in /home/kuroki/miniconda3/lib/python3.7/site-packages (from pytorch-tabnet) (0.23.2)\n",
      "Requirement already satisfied: numpy<2.0,>=1.17 in /home/kuroki/miniconda3/lib/python3.7/site-packages (from pytorch-tabnet) (1.19.1)\n",
      "Requirement already satisfied: torch<2.0,>=1.2 in /home/kuroki/miniconda3/lib/python3.7/site-packages (from pytorch-tabnet) (1.6.0+cu101)\n",
      "Requirement already satisfied: scipy>1.4 in /home/kuroki/miniconda3/lib/python3.7/site-packages (from pytorch-tabnet) (1.5.2)\n",
      "Requirement already satisfied: threadpoolctl>=2.0.0 in /home/kuroki/miniconda3/lib/python3.7/site-packages (from scikit_learn>0.21->pytorch-tabnet) (2.1.0)\n",
      "Requirement already satisfied: joblib>=0.11 in /home/kuroki/miniconda3/lib/python3.7/site-packages (from scikit_learn>0.21->pytorch-tabnet) (0.16.0)\n",
      "Requirement already satisfied: future in /home/kuroki/miniconda3/lib/python3.7/site-packages (from torch<2.0,>=1.2->pytorch-tabnet) (0.18.2)\n",
      "Processing /home/kuroki/projects/MoA/iterative-stratification/iterative-stratification-master\n",
      "Requirement already satisfied: numpy in /home/kuroki/miniconda3/lib/python3.7/site-packages (from iterative-stratification==0.1.6) (1.19.1)\n",
      "Requirement already satisfied: scipy in /home/kuroki/miniconda3/lib/python3.7/site-packages (from iterative-stratification==0.1.6) (1.5.2)\n",
      "Requirement already satisfied: scikit-learn in /home/kuroki/miniconda3/lib/python3.7/site-packages (from iterative-stratification==0.1.6) (0.23.2)\n",
      "Requirement already satisfied: threadpoolctl>=2.0.0 in /home/kuroki/miniconda3/lib/python3.7/site-packages (from scikit-learn->iterative-stratification==0.1.6) (2.1.0)\n",
      "Requirement already satisfied: joblib>=0.11 in /home/kuroki/miniconda3/lib/python3.7/site-packages (from scikit-learn->iterative-stratification==0.1.6) (0.16.0)\n",
      "Building wheels for collected packages: iterative-stratification\n",
      "  Building wheel for iterative-stratification (setup.py) ... \u001b[?25ldone\n",
      "\u001b[?25h  Created wheel for iterative-stratification: filename=iterative_stratification-0.1.6-py3-none-any.whl size=8401 sha256=004b922ac29fe08e4f7b24bdb6dc46d2aae7f219282a10b29ebaea1e561708fd\n",
      "  Stored in directory: /home/kuroki/.cache/pip/wheels/89/44/9b/7647ab9786def5e8e882534248f3e4a440283e8bd4d80a246c\n",
      "Successfully built iterative-stratification\n",
      "Installing collected packages: iterative-stratification\n",
      "  Attempting uninstall: iterative-stratification\n",
      "    Found existing installation: iterative-stratification 0.1.6\n",
      "    Uninstalling iterative-stratification-0.1.6:\n",
      "      Successfully uninstalled iterative-stratification-0.1.6\n",
      "Successfully installed iterative-stratification-0.1.6\n"
     ]
    }
   ],
   "source": [
    "# TabNet\n",
    "!pip install --no-index --find-links ../pytorchtabnet/pytorch_tabnet-2.0.0-py3-none-any.whl pytorch-tabnet\n",
    "# Iterative Stratification\n",
    "!pip install ../iterative-stratification/iterative-stratification-master/"
   ]
  },
  {
   "cell_type": "markdown",
   "metadata": {
    "papermill": {
     "duration": 0.039571,
     "end_time": "2020-11-10T07:57:21.697449",
     "exception": false,
     "start_time": "2020-11-10T07:57:21.657878",
     "status": "completed"
    },
    "tags": []
   },
   "source": [
    "## <font color = \"green\">Loading Libraries</font>"
   ]
  },
  {
   "cell_type": "code",
   "execution_count": 2,
   "metadata": {
    "_cell_guid": "79c7e3d0-c299-4dcb-8224-4455121ee9b0",
    "_uuid": "d629ff2d2480ee46fbb7e2d37f6b5fab8052498a",
    "execution": {
     "iopub.execute_input": "2020-11-10T07:57:21.796311Z",
     "iopub.status.busy": "2020-11-10T07:57:21.793253Z",
     "iopub.status.idle": "2020-11-10T07:57:24.370547Z",
     "shell.execute_reply": "2020-11-10T07:57:24.369836Z"
    },
    "papermill": {
     "duration": 2.632012,
     "end_time": "2020-11-10T07:57:24.370680",
     "exception": false,
     "start_time": "2020-11-10T07:57:21.738668",
     "status": "completed"
    },
    "tags": []
   },
   "outputs": [],
   "source": [
    "### General ###\n",
    "import os\n",
    "import sys\n",
    "import copy\n",
    "import tqdm\n",
    "import pickle\n",
    "import random\n",
    "import warnings\n",
    "warnings.filterwarnings(\"ignore\")\n",
    "sys.path.append(\"../rank-gauss\")\n",
    "os.environ[\"CUDA_LAUNCH_BLOCKING\"] = '1'\n",
    "\n",
    "### Data Wrangling ###\n",
    "import numpy as np\n",
    "import pandas as pd\n",
    "from scipy import stats\n",
    "from gauss_rank_scaler import GaussRankScaler\n",
    "\n",
    "### Data Visualization ###\n",
    "import seaborn as sns\n",
    "import matplotlib.pyplot as plt\n",
    "plt.style.use(\"fivethirtyeight\")\n",
    "\n",
    "### Machine Learning ###\n",
    "from sklearn.decomposition import PCA\n",
    "from sklearn.preprocessing import LabelEncoder\n",
    "from sklearn.metrics import roc_auc_score, log_loss\n",
    "from sklearn.preprocessing import QuantileTransformer\n",
    "from sklearn.feature_selection import VarianceThreshold\n",
    "from iterstrat.ml_stratifiers import MultilabelStratifiedKFold\n",
    "\n",
    "### Deep Learning ###\n",
    "import torch\n",
    "from torch import nn\n",
    "import torch.optim as optim\n",
    "from torch.nn import functional as F\n",
    "from torch.nn.modules.loss import _WeightedLoss\n",
    "from torch.utils.data import DataLoader, Dataset\n",
    "from torch.optim.lr_scheduler import ReduceLROnPlateau\n",
    "# Tabnet \n",
    "from pytorch_tabnet.metrics import Metric\n",
    "from pytorch_tabnet.tab_model import TabNetRegressor\n",
    "\n",
    "### Make prettier the prints ###\n",
    "from colorama import Fore\n",
    "c_ = Fore.CYAN\n",
    "m_ = Fore.MAGENTA\n",
    "r_ = Fore.RED\n",
    "b_ = Fore.BLUE\n",
    "y_ = Fore.YELLOW\n",
    "g_ = Fore.GREEN"
   ]
  },
  {
   "cell_type": "markdown",
   "metadata": {
    "papermill": {
     "duration": 0.041242,
     "end_time": "2020-11-10T07:57:24.454187",
     "exception": false,
     "start_time": "2020-11-10T07:57:24.412945",
     "status": "completed"
    },
    "tags": []
   },
   "source": [
    "## <font color = \"green\">Reproducibility</font>"
   ]
  },
  {
   "cell_type": "code",
   "execution_count": 3,
   "metadata": {
    "execution": {
     "iopub.execute_input": "2020-11-10T07:57:24.561144Z",
     "iopub.status.busy": "2020-11-10T07:57:24.560273Z",
     "iopub.status.idle": "2020-11-10T07:57:24.932775Z",
     "shell.execute_reply": "2020-11-10T07:57:24.931509Z"
    },
    "papermill": {
     "duration": 0.42755,
     "end_time": "2020-11-10T07:57:24.932927",
     "exception": false,
     "start_time": "2020-11-10T07:57:24.505377",
     "status": "completed"
    },
    "tags": []
   },
   "outputs": [],
   "source": [
    "seed = 42\n",
    "\n",
    "def set_seed(seed):\n",
    "    random.seed(seed)\n",
    "    np.random.seed(seed)\n",
    "    torch.manual_seed(seed)\n",
    "    os.environ[\"PYTHONHASHSEED\"] = str(seed)\n",
    "    \n",
    "    if torch.cuda.is_available():\n",
    "        torch.cuda.manual_seed(seed)\n",
    "        torch.cuda.manual_seed_all(seed)\n",
    "        torch.backends.cudnn.deterministic = True\n",
    "        torch.backends.cudnn.benchmark = False\n",
    "set_seed(seed)"
   ]
  },
  {
   "cell_type": "markdown",
   "metadata": {
    "papermill": {
     "duration": 0.041603,
     "end_time": "2020-11-10T07:57:25.016867",
     "exception": false,
     "start_time": "2020-11-10T07:57:24.975264",
     "status": "completed"
    },
    "tags": []
   },
   "source": [
    "## <font color = \"green\">Configuration</font>"
   ]
  },
  {
   "cell_type": "code",
   "execution_count": 4,
   "metadata": {
    "execution": {
     "iopub.execute_input": "2020-11-10T07:57:25.109212Z",
     "iopub.status.busy": "2020-11-10T07:57:25.108377Z",
     "iopub.status.idle": "2020-11-10T07:57:25.112101Z",
     "shell.execute_reply": "2020-11-10T07:57:25.111558Z"
    },
    "papermill": {
     "duration": 0.05164,
     "end_time": "2020-11-10T07:57:25.112216",
     "exception": false,
     "start_time": "2020-11-10T07:57:25.060576",
     "status": "completed"
    },
    "tags": []
   },
   "outputs": [],
   "source": [
    "# Parameters\n",
    "data_path = \"../lish-moa/\"\n",
    "no_ctl = True\n",
    "scale = \"rankgauss\"\n",
    "variance_threshould = 0.7\n",
    "decompo = \"PCA\"\n",
    "ncompo_genes = 80\n",
    "ncompo_cells = 10\n",
    "encoding = \"dummy\""
   ]
  },
  {
   "cell_type": "markdown",
   "metadata": {
    "papermill": {
     "duration": 0.041625,
     "end_time": "2020-11-10T07:57:25.195652",
     "exception": false,
     "start_time": "2020-11-10T07:57:25.154027",
     "status": "completed"
    },
    "tags": []
   },
   "source": [
    "## <font color = \"green\">Loading the Data</font>"
   ]
  },
  {
   "cell_type": "code",
   "execution_count": 5,
   "metadata": {
    "execution": {
     "iopub.execute_input": "2020-11-10T07:57:25.293567Z",
     "iopub.status.busy": "2020-11-10T07:57:25.292488Z",
     "iopub.status.idle": "2020-11-10T07:57:31.361709Z",
     "shell.execute_reply": "2020-11-10T07:57:31.360953Z"
    },
    "papermill": {
     "duration": 6.124405,
     "end_time": "2020-11-10T07:57:31.361847",
     "exception": false,
     "start_time": "2020-11-10T07:57:25.237442",
     "status": "completed"
    },
    "tags": []
   },
   "outputs": [],
   "source": [
    "train = pd.read_csv(data_path + \"train_features.csv\")\n",
    "#train.drop(columns = [\"sig_id\"], inplace = True)\n",
    "\n",
    "targets = pd.read_csv(data_path + \"train_targets_scored.csv\")\n",
    "#train_targets_scored.drop(columns = [\"sig_id\"], inplace = True)\n",
    "\n",
    "#train_targets_nonscored = pd.read_csv(data_path + \"train_targets_nonscored.csv\")\n",
    "\n",
    "test = pd.read_csv(data_path + \"test_features.csv\")\n",
    "#test.drop(columns = [\"sig_id\"], inplace = True)\n",
    "\n",
    "submission = pd.read_csv(data_path + \"sample_submission.csv\")"
   ]
  },
  {
   "cell_type": "markdown",
   "metadata": {
    "papermill": {
     "duration": 0.043416,
     "end_time": "2020-11-10T07:57:31.447762",
     "exception": false,
     "start_time": "2020-11-10T07:57:31.404346",
     "status": "completed"
    },
    "tags": []
   },
   "source": [
    "# <font color = \"seagreen\">Preprocessing and Feature Engineering</font>"
   ]
  },
  {
   "cell_type": "code",
   "execution_count": 6,
   "metadata": {
    "execution": {
     "iopub.execute_input": "2020-11-10T07:57:31.546315Z",
     "iopub.status.busy": "2020-11-10T07:57:31.545360Z",
     "iopub.status.idle": "2020-11-10T07:57:31.644299Z",
     "shell.execute_reply": "2020-11-10T07:57:31.644945Z"
    },
    "papermill": {
     "duration": 0.153424,
     "end_time": "2020-11-10T07:57:31.645096",
     "exception": false,
     "start_time": "2020-11-10T07:57:31.491672",
     "status": "completed"
    },
    "tags": []
   },
   "outputs": [
    {
     "name": "stdout",
     "output_type": "stream",
     "text": [
      "\u001b[34m not_ctl\n"
     ]
    }
   ],
   "source": [
    "if no_ctl:\n",
    "    # cp_type == ctl_vehicle\n",
    "    print(b_, \"not_ctl\")\n",
    "    train = train[train[\"cp_type\"] != \"ctl_vehicle\"]\n",
    "    test = test[test[\"cp_type\"] != \"ctl_vehicle\"]\n",
    "    targets = targets.iloc[train.index]\n",
    "    train.reset_index(drop = True, inplace = True)\n",
    "    test.reset_index(drop = True, inplace = True)\n",
    "    targets.reset_index(drop = True, inplace = True)"
   ]
  },
  {
   "cell_type": "markdown",
   "metadata": {
    "papermill": {
     "duration": 0.043036,
     "end_time": "2020-11-10T07:57:31.731323",
     "exception": false,
     "start_time": "2020-11-10T07:57:31.688287",
     "status": "completed"
    },
    "tags": []
   },
   "source": [
    "## <font color = \"green\">Distributions Before Rank Gauss and PCA</font>"
   ]
  },
  {
   "cell_type": "code",
   "execution_count": 7,
   "metadata": {
    "execution": {
     "iopub.execute_input": "2020-11-10T07:57:31.829094Z",
     "iopub.status.busy": "2020-11-10T07:57:31.826539Z",
     "iopub.status.idle": "2020-11-10T07:57:31.832213Z",
     "shell.execute_reply": "2020-11-10T07:57:31.831687Z"
    },
    "papermill": {
     "duration": 0.057635,
     "end_time": "2020-11-10T07:57:31.832326",
     "exception": false,
     "start_time": "2020-11-10T07:57:31.774691",
     "status": "completed"
    },
    "tags": []
   },
   "outputs": [],
   "source": [
    "def distributions(num, graphs, items, features, gorc):\n",
    "    \"\"\"\n",
    "    Plot the distributions of gene expression or cell viability data\n",
    "    \"\"\"\n",
    "    for i in range(0, num - 1, 7):\n",
    "        if i >= 3:\n",
    "            break\n",
    "        idxs = list(np.array([0, 1, 2, 3, 4, 5, 6]) + i)\n",
    "    \n",
    "        fig, axs = plt.subplots(1, 7, sharey = True)\n",
    "        for k, item in enumerate(idxs):\n",
    "            if item >= items:\n",
    "                break\n",
    "            graph = sns.distplot(train[features].values[:, item], ax = axs[k])\n",
    "            graph.set_title(f\"{gorc}-{item}\")\n",
    "            graphs.append(graph)"
   ]
  },
  {
   "cell_type": "code",
   "execution_count": 8,
   "metadata": {
    "execution": {
     "iopub.execute_input": "2020-11-10T07:57:31.928655Z",
     "iopub.status.busy": "2020-11-10T07:57:31.927982Z",
     "iopub.status.idle": "2020-11-10T07:57:31.932768Z",
     "shell.execute_reply": "2020-11-10T07:57:31.932238Z"
    },
    "papermill": {
     "duration": 0.054906,
     "end_time": "2020-11-10T07:57:31.932870",
     "exception": false,
     "start_time": "2020-11-10T07:57:31.877964",
     "status": "completed"
    },
    "tags": []
   },
   "outputs": [],
   "source": [
    "GENES = [col for col in train.columns if col.startswith(\"g-\")]\n",
    "CELLS = [col for col in train.columns if col.startswith(\"c-\")]"
   ]
  },
  {
   "cell_type": "markdown",
   "metadata": {
    "papermill": {
     "duration": 0.04269,
     "end_time": "2020-11-10T07:57:32.018592",
     "exception": false,
     "start_time": "2020-11-10T07:57:31.975902",
     "status": "completed"
    },
    "tags": []
   },
   "source": [
    "### <font color = \"green\">Distributions of the Train Set</font>"
   ]
  },
  {
   "cell_type": "code",
   "execution_count": 9,
   "metadata": {
    "execution": {
     "iopub.execute_input": "2020-11-10T07:57:32.117110Z",
     "iopub.status.busy": "2020-11-10T07:57:32.115821Z",
     "iopub.status.idle": "2020-11-10T07:57:34.275428Z",
     "shell.execute_reply": "2020-11-10T07:57:34.276470Z"
    },
    "papermill": {
     "duration": 2.21279,
     "end_time": "2020-11-10T07:57:34.276688",
     "exception": false,
     "start_time": "2020-11-10T07:57:32.063898",
     "status": "completed"
    },
    "tags": []
   },
   "outputs": [
    {
     "data": {
      "image/png": "[encoded data removed]",
      "text/plain": [
       "<Figure size 432x288 with 7 Axes>"
      ]
     },
     "metadata": {},
     "output_type": "display_data"
    }
   ],
   "source": [
    "gnum = train[GENES].shape[1]\n",
    "graphs = []\n",
    "\n",
    "distributions(gnum, graphs, 771, GENES, \"g\")"
   ]
  },
  {
   "cell_type": "code",
   "execution_count": 10,
   "metadata": {
    "execution": {
     "iopub.execute_input": "2020-11-10T07:57:34.395036Z",
     "iopub.status.busy": "2020-11-10T07:57:34.391780Z",
     "iopub.status.idle": "2020-11-10T07:57:36.200401Z",
     "shell.execute_reply": "2020-11-10T07:57:36.200968Z"
    },
    "papermill": {
     "duration": 1.875571,
     "end_time": "2020-11-10T07:57:36.201118",
     "exception": false,
     "start_time": "2020-11-10T07:57:34.325547",
     "status": "completed"
    },
    "tags": []
   },
   "outputs": [
    {
     "data": {
      "image/png": "[encoded data removed]",
      "text/plain": [
       "<Figure size 432x288 with 7 Axes>"
      ]
     },
     "metadata": {},
     "output_type": "display_data"
    }
   ],
   "source": [
    "cnum = train[CELLS].shape[1]\n",
    "graphs = []\n",
    "\n",
    "distributions(cnum, graphs, 100, CELLS, \"c\")"
   ]
  },
  {
   "cell_type": "markdown",
   "metadata": {
    "papermill": {
     "duration": 0.044869,
     "end_time": "2020-11-10T07:57:36.294659",
     "exception": false,
     "start_time": "2020-11-10T07:57:36.249790",
     "status": "completed"
    },
    "tags": []
   },
   "source": [
    "### <font color = \"green\">Distributions of the Test Set</font>"
   ]
  },
  {
   "cell_type": "code",
   "execution_count": 11,
   "metadata": {
    "execution": {
     "iopub.execute_input": "2020-11-10T07:57:36.392257Z",
     "iopub.status.busy": "2020-11-10T07:57:36.390859Z",
     "iopub.status.idle": "2020-11-10T07:57:38.373898Z",
     "shell.execute_reply": "2020-11-10T07:57:38.373326Z"
    },
    "papermill": {
     "duration": 2.034979,
     "end_time": "2020-11-10T07:57:38.374043",
     "exception": false,
     "start_time": "2020-11-10T07:57:36.339064",
     "status": "completed"
    },
    "tags": []
   },
   "outputs": [
    {
     "data": {
      "image/png": "[encoded data removed]",
      "text/plain": [
       "<Figure size 432x288 with 7 Axes>"
      ]
     },
     "metadata": {},
     "output_type": "display_data"
    }
   ],
   "source": [
    "gnum = test[GENES].shape[1]\n",
    "graphs = []\n",
    "\n",
    "distributions(gnum, graphs, 771, GENES, \"g\")"
   ]
  },
  {
   "cell_type": "code",
   "execution_count": 12,
   "metadata": {
    "execution": {
     "iopub.execute_input": "2020-11-10T07:57:38.481314Z",
     "iopub.status.busy": "2020-11-10T07:57:38.478947Z",
     "iopub.status.idle": "2020-11-10T07:57:40.271545Z",
     "shell.execute_reply": "2020-11-10T07:57:40.270860Z"
    },
    "papermill": {
     "duration": 1.851741,
     "end_time": "2020-11-10T07:57:40.271668",
     "exception": false,
     "start_time": "2020-11-10T07:57:38.419927",
     "status": "completed"
    },
    "tags": []
   },
   "outputs": [
    {
     "data": {
      "image/png": "[encoded data removed]",
      "text/plain": [
       "<Figure size 432x288 with 7 Axes>"
      ]
     },
     "metadata": {},
     "output_type": "display_data"
    }
   ],
   "source": [
    "cnum = test[CELLS].shape[1]\n",
    "graphs = []\n",
    "\n",
    "distributions(cnum, graphs, 100, CELLS, \"c\")"
   ]
  },
  {
   "cell_type": "markdown",
   "metadata": {
    "papermill": {
     "duration": 0.046831,
     "end_time": "2020-11-10T07:57:40.367198",
     "exception": false,
     "start_time": "2020-11-10T07:57:40.320367",
     "status": "completed"
    },
    "tags": []
   },
   "source": [
    "## <font color = \"green\">Rank Gauss Process</font>"
   ]
  },
  {
   "cell_type": "code",
   "execution_count": 13,
   "metadata": {
    "execution": {
     "iopub.execute_input": "2020-11-10T07:57:40.476185Z",
     "iopub.status.busy": "2020-11-10T07:57:40.473442Z",
     "iopub.status.idle": "2020-11-10T07:57:40.867833Z",
     "shell.execute_reply": "2020-11-10T07:57:40.866175Z"
    },
    "papermill": {
     "duration": 0.4539,
     "end_time": "2020-11-10T07:57:40.867985",
     "exception": false,
     "start_time": "2020-11-10T07:57:40.414085",
     "status": "completed"
    },
    "tags": []
   },
   "outputs": [],
   "source": [
    "data_all = pd.concat([train, test], ignore_index = True)\n",
    "cols_numeric = [feat for feat in list(data_all.columns) if feat not in [\"sig_id\", \"cp_type\", \"cp_time\", \"cp_dose\"]]\n",
    "mask = (data_all[cols_numeric].var() >= variance_threshould).values\n",
    "tmp = data_all[cols_numeric].loc[:, mask]\n",
    "data_all = pd.concat([data_all[[\"sig_id\", \"cp_type\", \"cp_time\", \"cp_dose\"]], tmp], axis = 1)\n",
    "cols_numeric = [feat for feat in list(data_all.columns) if feat not in [\"sig_id\", \"cp_type\", \"cp_time\", \"cp_dose\"]]"
   ]
  },
  {
   "cell_type": "code",
   "execution_count": 14,
   "metadata": {
    "execution": {
     "iopub.execute_input": "2020-11-10T07:57:40.983652Z",
     "iopub.status.busy": "2020-11-10T07:57:40.981768Z",
     "iopub.status.idle": "2020-11-10T07:57:58.599258Z",
     "shell.execute_reply": "2020-11-10T07:57:58.598173Z"
    },
    "papermill": {
     "duration": 17.683231,
     "end_time": "2020-11-10T07:57:58.599411",
     "exception": false,
     "start_time": "2020-11-10T07:57:40.916180",
     "status": "completed"
    },
    "tags": []
   },
   "outputs": [
    {
     "name": "stdout",
     "output_type": "stream",
     "text": [
      "\u001b[34m Rank Gauss\n"
     ]
    }
   ],
   "source": [
    "def scale_minmax(col):\n",
    "    return (col - col.min()) / (col.max() - col.min())\n",
    "\n",
    "def scale_norm(col):\n",
    "    return (col - col.mean()) / col.std()\n",
    "\n",
    "if scale == \"boxcox\":\n",
    "    print(b_, \"boxcox\")\n",
    "    data_all[cols_numeric] = data_all[cols_numeric].apply(scale_minmax, axis = 0)\n",
    "    trans = []\n",
    "    for feat in cols_numeric:\n",
    "        trans_var, lambda_var = stats.boxcox(data_all[feat].dropna() + 1)\n",
    "        trans.append(scale_minmax(trans_var))\n",
    "    data_all[cols_numeric] = np.asarray(trans).T\n",
    "    \n",
    "elif scale == \"norm\":\n",
    "    print(b_, \"norm\")\n",
    "    data_all[cols_numeric] = data_all[cols_numeric].apply(scale_norm, axis = 0)\n",
    "    \n",
    "elif scale == \"minmax\":\n",
    "    print(b_, \"minmax\")\n",
    "    data_all[cols_numeric] = data_all[cols_numeric].apply(scale_minmax, axis = 0)\n",
    "    \n",
    "elif scale == \"rankgauss\":\n",
    "    ### Rank Gauss ###\n",
    "    print(b_, \"Rank Gauss\")\n",
    "    scaler = GaussRankScaler()\n",
    "    data_all[cols_numeric] = scaler.fit_transform(data_all[cols_numeric])\n",
    "    \n",
    "else:\n",
    "    pass"
   ]
  },
  {
   "cell_type": "markdown",
   "metadata": {
    "papermill": {
     "duration": 0.046979,
     "end_time": "2020-11-10T07:57:58.693587",
     "exception": false,
     "start_time": "2020-11-10T07:57:58.646608",
     "status": "completed"
    },
    "tags": []
   },
   "source": [
    "## <font color = \"green\">Principal Component Analysis</font>"
   ]
  },
  {
   "cell_type": "code",
   "execution_count": 15,
   "metadata": {
    "execution": {
     "iopub.execute_input": "2020-11-10T07:57:58.804898Z",
     "iopub.status.busy": "2020-11-10T07:57:58.803266Z",
     "iopub.status.idle": "2020-11-10T07:58:00.841094Z",
     "shell.execute_reply": "2020-11-10T07:58:00.840491Z"
    },
    "papermill": {
     "duration": 2.100066,
     "end_time": "2020-11-10T07:58:00.841212",
     "exception": false,
     "start_time": "2020-11-10T07:57:58.741146",
     "status": "completed"
    },
    "tags": []
   },
   "outputs": [
    {
     "name": "stdout",
     "output_type": "stream",
     "text": [
      "\u001b[34m PCA\n"
     ]
    }
   ],
   "source": [
    "# PCA\n",
    "if decompo == \"PCA\":\n",
    "    print(b_, \"PCA\")\n",
    "    GENES = [col for col in data_all.columns if col.startswith(\"g-\")]\n",
    "    CELLS = [col for col in data_all.columns if col.startswith(\"c-\")]\n",
    "    \n",
    "    pca_genes = PCA(n_components = ncompo_genes,\n",
    "                    random_state = seed).fit_transform(data_all[GENES])\n",
    "    pca_cells = PCA(n_components = ncompo_cells,\n",
    "                    random_state = seed).fit_transform(data_all[CELLS])\n",
    "    \n",
    "    pca_genes = pd.DataFrame(pca_genes, columns = [f\"pca_g-{i}\" for i in range(ncompo_genes)])\n",
    "    pca_cells = pd.DataFrame(pca_cells, columns = [f\"pca_c-{i}\" for i in range(ncompo_cells)])\n",
    "    data_all = pd.concat([data_all, pca_genes, pca_cells], axis = 1)\n",
    "else:\n",
    "    pass"
   ]
  },
  {
   "cell_type": "markdown",
   "metadata": {
    "papermill": {
     "duration": 0.047989,
     "end_time": "2020-11-10T07:58:00.937580",
     "exception": false,
     "start_time": "2020-11-10T07:58:00.889591",
     "status": "completed"
    },
    "tags": []
   },
   "source": [
    "## <font color = \"green\">One Hot</font>"
   ]
  },
  {
   "cell_type": "code",
   "execution_count": 16,
   "metadata": {
    "execution": {
     "iopub.execute_input": "2020-11-10T07:58:01.045143Z",
     "iopub.status.busy": "2020-11-10T07:58:01.043431Z",
     "iopub.status.idle": "2020-11-10T07:58:01.325164Z",
     "shell.execute_reply": "2020-11-10T07:58:01.324586Z"
    },
    "papermill": {
     "duration": 0.339737,
     "end_time": "2020-11-10T07:58:01.325289",
     "exception": false,
     "start_time": "2020-11-10T07:58:00.985552",
     "status": "completed"
    },
    "tags": []
   },
   "outputs": [
    {
     "name": "stdout",
     "output_type": "stream",
     "text": [
      "\u001b[34m One-Hot\n"
     ]
    }
   ],
   "source": [
    "# Encoding\n",
    "if encoding == \"lb\":\n",
    "    print(b_, \"Label Encoding\")\n",
    "    for feat in [\"cp_time\", \"cp_dose\"]:\n",
    "        data_all[feat] = LabelEncoder().fit_transform(data_all[feat])\n",
    "elif encoding == \"dummy\":\n",
    "    print(b_, \"One-Hot\")\n",
    "    data_all = pd.get_dummies(data_all, columns = [\"cp_time\", \"cp_dose\"])"
   ]
  },
  {
   "cell_type": "code",
   "execution_count": 17,
   "metadata": {
    "execution": {
     "iopub.execute_input": "2020-11-10T07:58:01.432302Z",
     "iopub.status.busy": "2020-11-10T07:58:01.431601Z",
     "iopub.status.idle": "2020-11-10T07:58:06.491662Z",
     "shell.execute_reply": "2020-11-10T07:58:06.492453Z"
    },
    "papermill": {
     "duration": 5.119249,
     "end_time": "2020-11-10T07:58:06.492647",
     "exception": false,
     "start_time": "2020-11-10T07:58:01.373398",
     "status": "completed"
    },
    "tags": []
   },
   "outputs": [
    {
     "name": "stderr",
     "output_type": "stream",
     "text": [
      "100%|██████████| 5/5 [00:04<00:00,  1.15it/s]\n"
     ]
    }
   ],
   "source": [
    "GENES = [col for col in data_all.columns if col.startswith(\"g-\")]\n",
    "CELLS = [col for col in data_all.columns if col.startswith(\"c-\")]\n",
    "\n",
    "for stats in tqdm.tqdm([\"sum\", \"mean\", \"std\", \"kurt\", \"skew\"]):\n",
    "    data_all[\"g_\" + stats] = getattr(data_all[GENES], stats)(axis = 1)\n",
    "    data_all[\"c_\" + stats] = getattr(data_all[CELLS], stats)(axis = 1)    \n",
    "    data_all[\"gc_\" + stats] = getattr(data_all[GENES + CELLS], stats)(axis = 1)"
   ]
  },
  {
   "cell_type": "markdown",
   "metadata": {
    "papermill": {
     "duration": 0.05179,
     "end_time": "2020-11-10T07:58:06.596780",
     "exception": false,
     "start_time": "2020-11-10T07:58:06.544990",
     "status": "completed"
    },
    "tags": []
   },
   "source": [
    "## <font color = \"green\">Distributions After Rank Gauss and PCA</font>"
   ]
  },
  {
   "cell_type": "code",
   "execution_count": 18,
   "metadata": {
    "execution": {
     "iopub.execute_input": "2020-11-10T07:58:06.713517Z",
     "iopub.status.busy": "2020-11-10T07:58:06.711415Z",
     "iopub.status.idle": "2020-11-10T07:58:06.716217Z",
     "shell.execute_reply": "2020-11-10T07:58:06.715693Z"
    },
    "papermill": {
     "duration": 0.066588,
     "end_time": "2020-11-10T07:58:06.716327",
     "exception": false,
     "start_time": "2020-11-10T07:58:06.649739",
     "status": "completed"
    },
    "tags": []
   },
   "outputs": [],
   "source": [
    "def distributions(num, graphs, items, features, gorc):\n",
    "    \"\"\"\n",
    "    Plot the distributions of gene expression or cell viability data\n",
    "    \"\"\"\n",
    "    for i in range(0, num - 1, 7):\n",
    "        if i >= 3:\n",
    "            break\n",
    "        idxs = list(np.array([0, 1, 2, 3, 4, 5, 6]) + i)\n",
    "    \n",
    "        fig, axs = plt.subplots(1, 7, sharey = True)\n",
    "        for k, item in enumerate(idxs):\n",
    "            if item >= items:\n",
    "                break\n",
    "            graph = sns.distplot(data_all[features].values[:, item], ax = axs[k])\n",
    "            graph.set_title(f\"{gorc}-{item}\")\n",
    "            graphs.append(graph)"
   ]
  },
  {
   "cell_type": "markdown",
   "metadata": {
    "papermill": {
     "duration": 0.053465,
     "end_time": "2020-11-10T07:58:06.821998",
     "exception": false,
     "start_time": "2020-11-10T07:58:06.768533",
     "status": "completed"
    },
    "tags": []
   },
   "source": [
    "### <font color = \"green\">Distributions of \"data_all\"</font>"
   ]
  },
  {
   "cell_type": "code",
   "execution_count": 19,
   "metadata": {
    "execution": {
     "iopub.execute_input": "2020-11-10T07:58:06.936712Z",
     "iopub.status.busy": "2020-11-10T07:58:06.935348Z",
     "iopub.status.idle": "2020-11-10T07:58:09.309116Z",
     "shell.execute_reply": "2020-11-10T07:58:09.309704Z"
    },
    "papermill": {
     "duration": 2.433905,
     "end_time": "2020-11-10T07:58:09.309873",
     "exception": false,
     "start_time": "2020-11-10T07:58:06.875968",
     "status": "completed"
    },
    "tags": []
   },
   "outputs": [
    {
     "data": {
      "image/png": "[encoded data removed]",
      "text/plain": [
       "<Figure size 432x288 with 7 Axes>"
      ]
     },
     "metadata": {},
     "output_type": "display_data"
    }
   ],
   "source": [
    "gnum = data_all[GENES].shape[1]\n",
    "graphs = []\n",
    "\n",
    "distributions(gnum, graphs, 771, GENES, \"g\")"
   ]
  },
  {
   "cell_type": "code",
   "execution_count": 20,
   "metadata": {
    "execution": {
     "iopub.execute_input": "2020-11-10T07:58:09.439114Z",
     "iopub.status.busy": "2020-11-10T07:58:09.432250Z",
     "iopub.status.idle": "2020-11-10T07:58:11.150158Z",
     "shell.execute_reply": "2020-11-10T07:58:11.149537Z"
    },
    "papermill": {
     "duration": 1.783439,
     "end_time": "2020-11-10T07:58:11.150305",
     "exception": false,
     "start_time": "2020-11-10T07:58:09.366866",
     "status": "completed"
    },
    "tags": []
   },
   "outputs": [
    {
     "data": {
      "image/png": "[encoded data removed]",
      "text/plain": [
       "<Figure size 432x288 with 7 Axes>"
      ]
     },
     "metadata": {},
     "output_type": "display_data"
    }
   ],
   "source": [
    "cnum = data_all[CELLS].shape[1]\n",
    "graphs = []\n",
    "\n",
    "distributions(cnum, graphs, 100, CELLS, \"c\")"
   ]
  },
  {
   "cell_type": "markdown",
   "metadata": {
    "papermill": {
     "duration": 0.055287,
     "end_time": "2020-11-10T07:58:11.260813",
     "exception": false,
     "start_time": "2020-11-10T07:58:11.205526",
     "status": "completed"
    },
    "tags": []
   },
   "source": [
    "We can confirme that the shapes of data got close to the normal distribution."
   ]
  },
  {
   "cell_type": "code",
   "execution_count": 21,
   "metadata": {
    "execution": {
     "iopub.execute_input": "2020-11-10T07:58:11.528439Z",
     "iopub.status.busy": "2020-11-10T07:58:11.527266Z",
     "iopub.status.idle": "2020-11-10T07:58:11.718163Z",
     "shell.execute_reply": "2020-11-10T07:58:11.717531Z"
    },
    "papermill": {
     "duration": 0.402441,
     "end_time": "2020-11-10T07:58:11.718276",
     "exception": false,
     "start_time": "2020-11-10T07:58:11.315835",
     "status": "completed"
    },
    "tags": []
   },
   "outputs": [],
   "source": [
    "with open(\"data_all.pickle\", \"wb\") as f:\n",
    "    pickle.dump(data_all, f)"
   ]
  },
  {
   "cell_type": "code",
   "execution_count": 22,
   "metadata": {
    "execution": {
     "iopub.execute_input": "2020-11-10T07:58:11.837333Z",
     "iopub.status.busy": "2020-11-10T07:58:11.836236Z",
     "iopub.status.idle": "2020-11-10T07:58:12.108856Z",
     "shell.execute_reply": "2020-11-10T07:58:12.108243Z"
    },
    "papermill": {
     "duration": 0.334739,
     "end_time": "2020-11-10T07:58:12.109024",
     "exception": false,
     "start_time": "2020-11-10T07:58:11.774285",
     "status": "completed"
    },
    "tags": []
   },
   "outputs": [],
   "source": [
    "with open(\"data_all.pickle\", \"rb\") as f:\n",
    "    data_all = pickle.load(f)"
   ]
  },
  {
   "cell_type": "code",
   "execution_count": 23,
   "metadata": {
    "execution": {
     "iopub.execute_input": "2020-11-10T07:58:12.298899Z",
     "iopub.status.busy": "2020-11-10T07:58:12.289459Z",
     "iopub.status.idle": "2020-11-10T07:58:12.313646Z",
     "shell.execute_reply": "2020-11-10T07:58:12.313109Z"
    },
    "papermill": {
     "duration": 0.148645,
     "end_time": "2020-11-10T07:58:12.313781",
     "exception": false,
     "start_time": "2020-11-10T07:58:12.165136",
     "status": "completed"
    },
    "tags": []
   },
   "outputs": [],
   "source": [
    "# train_df and test_df\n",
    "features_to_drop = [\"sig_id\", \"cp_type\"]\n",
    "data_all.drop(features_to_drop, axis = 1, inplace = True)\n",
    "try:\n",
    "    targets.drop(\"sig_id\", axis = 1, inplace = True)\n",
    "except:\n",
    "    pass\n",
    "train_df = data_all[: train.shape[0]]\n",
    "train_df.reset_index(drop = True, inplace = True)\n",
    "# The following line it's a bad practice in my opinion, targets on train set\n",
    "#train_df = pd.concat([train_df, targets], axis = 1)\n",
    "test_df = data_all[train_df.shape[0]: ]\n",
    "test_df.reset_index(drop = True, inplace = True)"
   ]
  },
  {
   "cell_type": "code",
   "execution_count": 24,
   "metadata": {
    "execution": {
     "iopub.execute_input": "2020-11-10T07:58:12.428857Z",
     "iopub.status.busy": "2020-11-10T07:58:12.428108Z",
     "iopub.status.idle": "2020-11-10T07:58:12.433743Z",
     "shell.execute_reply": "2020-11-10T07:58:12.434452Z"
    },
    "papermill": {
     "duration": 0.066529,
     "end_time": "2020-11-10T07:58:12.434618",
     "exception": false,
     "start_time": "2020-11-10T07:58:12.368089",
     "status": "completed"
    },
    "tags": []
   },
   "outputs": [
    {
     "name": "stdout",
     "output_type": "stream",
     "text": [
      "\u001b[34mtrain_df.shape: \u001b[31m(21948, 947)\n",
      "\u001b[34mtest_df.shape: \u001b[31m(3624, 947)\n"
     ]
    }
   ],
   "source": [
    "print(f\"{b_}train_df.shape: {r_}{train_df.shape}\")\n",
    "print(f\"{b_}test_df.shape: {r_}{test_df.shape}\")"
   ]
  },
  {
   "cell_type": "code",
   "execution_count": 25,
   "metadata": {
    "execution": {
     "iopub.execute_input": "2020-11-10T07:58:12.555536Z",
     "iopub.status.busy": "2020-11-10T07:58:12.553823Z",
     "iopub.status.idle": "2020-11-10T07:58:12.568844Z",
     "shell.execute_reply": "2020-11-10T07:58:12.568343Z"
    },
    "papermill": {
     "duration": 0.077005,
     "end_time": "2020-11-10T07:58:12.568987",
     "exception": false,
     "start_time": "2020-11-10T07:58:12.491982",
     "status": "completed"
    },
    "tags": []
   },
   "outputs": [
    {
     "name": "stdout",
     "output_type": "stream",
     "text": [
      "\u001b[34mX_test.shape: \u001b[31m(3624, 947)\n"
     ]
    }
   ],
   "source": [
    "X_test = test_df.values\n",
    "print(f\"{b_}X_test.shape: {r_}{X_test.shape}\")"
   ]
  },
  {
   "cell_type": "markdown",
   "metadata": {
    "papermill": {
     "duration": 0.056043,
     "end_time": "2020-11-10T07:58:12.682169",
     "exception": false,
     "start_time": "2020-11-10T07:58:12.626126",
     "status": "completed"
    },
    "tags": []
   },
   "source": [
    "# <font color = \"seagreen\">Experiments</font>\n",
    "\n",
    "I just want to point that the [original work](https://www.kaggle.com/optimo/tabnetregressor-2-0-train-infer) achive a CV of 0.015532370835690834 and a LB score of 0.01864. Some of the experiments that i made with their changes:\n",
    "\n",
    "\n",
    "- CV: 0.01543560538566987, LB: 0.01858, best LB that i could achive, changes\n",
    "    - `n_a` = 32 instead of 24\n",
    "    - `n_d` = 32 instead of 24\n",
    "- CV: 0.015282077428722094, LB: 0.01862, best CV that i could achive, changes (Version 5):\n",
    "    - `n_a` = 32 instead of 24\n",
    "    - `n_d` = 32 instead of 24\n",
    "    - `virtual_batch_size` = 32, instead of 128\n",
    "    - `seed` = 42 instead of 0\n",
    "- CV: 0.015330138325308062, LB: 01864, the same LB that the original but better CV, changes:\n",
    "    - `n_a` = 32 instead of 24\n",
    "    - `n_d` = 32 instead of 24\n",
    "    - `virtual_batch_size` = 64, instead of 128\n",
    "    - `batch_size` = 512, instead of 1024\n",
    "- CV: 0.015361751699863063, LB: 0.01863, better LB and CV than the original, changes:\n",
    "    - `n_a` = 32 instead of 24\n",
    "    - `n_d` = 32 instead of 24\n",
    "    - `virtual_batch_size` = 64, instead of 128\n",
    "- CV: 0.015529925324634975, LB: 0.01865, changes:\n",
    "    - `n_a` = 48 instead of 24\n",
    "    - `n_d` = 48 instead of 24\n",
    "- CV: 0.015528553520924939, LB: 0.01868, changes:\n",
    "    - `n_a` = 12 instead of 24\n",
    "    - `n_d` = 12 instead of 24\n",
    "- CV: 0.015870202970324317, LB: 0.01876, worst CV and LB score, changes:\n",
    "    - `n_a` = 12 instead of 24\n",
    "    - `n_d` = 12 instead of 24\n",
    "    - `batch_size` = 2048, instead of 1024\n",
    "    \n",
    "    \n",
    "As you can see if `batch_size` < 1024 and > 1024 give worst results. Something similar happens with `n_a` and `n_d`, if their values are lower or higher than 32 the results are worst.\n",
    "\n",
    "\n",
    "## <font color = \"green\">Versions</font>\n",
    "\n",
    "- **Version 5**: I added the `seed` parameter to the TabNet model.\n",
    "- **Version 6**: I changed the `virtual_batch_size` to 24\n",
    "    - CV: 0.01532900616425282, LB: 0.01862, changes:\n",
    "        - `n_a` = 32 instead of 24\n",
    "        - `n_d` = 32 instead of 24\n",
    "        - `virtual_batch_size` = 24, instead of 128\n",
    "        - `seed` = 42 instead of 0\n",
    "- **Version 7**: PCA, Rank Gauss"
   ]
  },
  {
   "cell_type": "markdown",
   "metadata": {
    "papermill": {
     "duration": 0.057029,
     "end_time": "2020-11-10T07:58:12.796087",
     "exception": false,
     "start_time": "2020-11-10T07:58:12.739058",
     "status": "completed"
    },
    "tags": []
   },
   "source": [
    "# <font color = \"seagreen\">Modeling</font>"
   ]
  },
  {
   "cell_type": "markdown",
   "metadata": {
    "papermill": {
     "duration": 0.05573,
     "end_time": "2020-11-10T07:58:12.909014",
     "exception": false,
     "start_time": "2020-11-10T07:58:12.853284",
     "status": "completed"
    },
    "tags": []
   },
   "source": [
    "## <font color = \"green\">Model Parameters</font>"
   ]
  },
  {
   "cell_type": "code",
   "execution_count": 26,
   "metadata": {
    "execution": {
     "iopub.execute_input": "2020-11-10T07:58:13.031867Z",
     "iopub.status.busy": "2020-11-10T07:58:13.031019Z",
     "iopub.status.idle": "2020-11-10T07:58:13.034242Z",
     "shell.execute_reply": "2020-11-10T07:58:13.033652Z"
    },
    "papermill": {
     "duration": 0.068945,
     "end_time": "2020-11-10T07:58:13.034378",
     "exception": false,
     "start_time": "2020-11-10T07:58:12.965433",
     "status": "completed"
    },
    "tags": []
   },
   "outputs": [],
   "source": [
    "MAX_EPOCH = 200\n",
    "# n_d and n_a are different from the original work, 32 instead of 24\n",
    "# This is the first change in the code from the original\n",
    "tabnet_params = dict(\n",
    "    n_d = 32,\n",
    "    n_a = 32,\n",
    "    n_steps = 1,\n",
    "    gamma = 1.3,\n",
    "    lambda_sparse = 0,\n",
    "    optimizer_fn = optim.Adam,\n",
    "    optimizer_params = dict(lr = 2e-2, weight_decay = 1e-5),\n",
    "    mask_type = \"entmax\",\n",
    "    scheduler_params = dict(\n",
    "        mode = \"min\", patience = 5, min_lr = 1e-5, factor = 0.9),\n",
    "    scheduler_fn = ReduceLROnPlateau,\n",
    "    seed = seed,\n",
    "    verbose = 10\n",
    ")"
   ]
  },
  {
   "cell_type": "markdown",
   "metadata": {
    "papermill": {
     "duration": 0.056864,
     "end_time": "2020-11-10T07:58:13.150146",
     "exception": false,
     "start_time": "2020-11-10T07:58:13.093282",
     "status": "completed"
    },
    "tags": []
   },
   "source": [
    "## <font color = \"green\">Custom Metric</font>"
   ]
  },
  {
   "cell_type": "code",
   "execution_count": 27,
   "metadata": {
    "execution": {
     "iopub.execute_input": "2020-11-10T07:58:13.276170Z",
     "iopub.status.busy": "2020-11-10T07:58:13.275326Z",
     "iopub.status.idle": "2020-11-10T07:58:13.279161Z",
     "shell.execute_reply": "2020-11-10T07:58:13.278608Z"
    },
    "papermill": {
     "duration": 0.071262,
     "end_time": "2020-11-10T07:58:13.279273",
     "exception": false,
     "start_time": "2020-11-10T07:58:13.208011",
     "status": "completed"
    },
    "tags": []
   },
   "outputs": [],
   "source": [
    "class LogitsLogLoss(Metric):\n",
    "    \"\"\"\n",
    "    LogLoss with sigmoid applied\n",
    "    \"\"\"\n",
    "\n",
    "    def __init__(self):\n",
    "        self._name = \"logits_ll\"\n",
    "        self._maximize = False\n",
    "\n",
    "    def __call__(self, y_true, y_pred):\n",
    "        \"\"\"\n",
    "        Compute LogLoss of predictions.\n",
    "\n",
    "        Parameters\n",
    "        ----------\n",
    "        y_true: np.ndarray\n",
    "            Target matrix or vector\n",
    "        y_score: np.ndarray\n",
    "            Score matrix or vector\n",
    "\n",
    "        Returns\n",
    "        -------\n",
    "            float\n",
    "            LogLoss of predictions vs targets.\n",
    "        \"\"\"\n",
    "        logits = 1 / (1 + np.exp(-y_pred))\n",
    "        aux = (1 - y_true) * np.log(1 - logits + 1e-15) + y_true * np.log(logits + 1e-15)\n",
    "        return np.mean(-aux)"
   ]
  },
  {
   "cell_type": "markdown",
   "metadata": {
    "papermill": {
     "duration": 0.055805,
     "end_time": "2020-11-10T07:58:13.392515",
     "exception": false,
     "start_time": "2020-11-10T07:58:13.336710",
     "status": "completed"
    },
    "tags": []
   },
   "source": [
    "# <font color = \"seagreen\">Training</font>"
   ]
  },
  {
   "cell_type": "code",
   "execution_count": 28,
   "metadata": {
    "execution": {
     "iopub.execute_input": "2020-11-10T07:58:13.531147Z",
     "iopub.status.busy": "2020-11-10T07:58:13.530042Z",
     "iopub.status.idle": "2020-11-10T09:23:41.965208Z",
     "shell.execute_reply": "2020-11-10T09:23:41.964606Z"
    },
    "papermill": {
     "duration": 5128.516078,
     "end_time": "2020-11-10T09:23:41.965357",
     "exception": false,
     "start_time": "2020-11-10T07:58:13.449279",
     "status": "completed"
    },
    "tags": []
   },
   "outputs": [
    {
     "name": "stdout",
     "output_type": "stream",
     "text": [
      "\u001b[34m FOLDS:  \u001b[31m 1 \u001b[33m seed: 42\n",
      "\u001b[32m ************************************************************ \u001b[36m\n",
      "Device used : cuda\n",
      "epoch 0  | loss: 0.31238 | val_logits_ll: 0.03062 |  0:00:02s\n",
      "epoch 10 | loss: 0.01903 | val_logits_ll: 0.01861 |  0:00:26s\n",
      "epoch 20 | loss: 0.01736 | val_logits_ll: 0.01764 |  0:00:50s\n",
      "epoch 30 | loss: 0.01704 | val_logits_ll: 0.01711 |  0:01:15s\n",
      "epoch 40 | loss: 0.01665 | val_logits_ll: 0.01704 |  0:01:39s\n",
      "epoch 50 | loss: 0.01628 | val_logits_ll: 0.01682 |  0:02:03s\n",
      "epoch 60 | loss: 0.01615 | val_logits_ll: 0.0167  |  0:02:26s\n",
      "epoch 70 | loss: 0.01595 | val_logits_ll: 0.01678 |  0:02:50s\n",
      "epoch 80 | loss: 0.01557 | val_logits_ll: 0.01668 |  0:03:13s\n",
      "epoch 90 | loss: 0.01541 | val_logits_ll: 0.01656 |  0:03:36s\n",
      "epoch 100| loss: 0.01494 | val_logits_ll: 0.01668 |  0:03:58s\n",
      "epoch 110| loss: 0.01456 | val_logits_ll: 0.01697 |  0:04:21s\n",
      "\n",
      "Early stopping occured at epoch 116 with best_epoch = 66 and best_val_logits_ll = 0.01656\n",
      "Best weights from best epoch are automatically used!\n",
      "\u001b[33m ------------------------------------------------------------\n",
      "Successfully saved model at overfitting_SEED42_FOLD0.zip\n",
      "\u001b[34m FOLDS:  \u001b[31m 2 \u001b[33m seed: 42\n",
      "\u001b[32m ************************************************************ \u001b[36m\n",
      "Device used : cuda\n",
      "epoch 0  | loss: 0.31038 | val_logits_ll: 0.03123 |  0:00:01s\n",
      "epoch 10 | loss: 0.01898 | val_logits_ll: 0.01877 |  0:00:23s\n",
      "epoch 20 | loss: 0.0175  | val_logits_ll: 0.01911 |  0:00:44s\n",
      "epoch 30 | loss: 0.01693 | val_logits_ll: 0.01831 |  0:01:06s\n",
      "epoch 40 | loss: 0.01664 | val_logits_ll: 0.01739 |  0:01:28s\n",
      "epoch 50 | loss: 0.01651 | val_logits_ll: 0.01679 |  0:01:49s\n",
      "epoch 60 | loss: 0.01613 | val_logits_ll: 0.0167  |  0:02:11s\n",
      "epoch 70 | loss: 0.01598 | val_logits_ll: 0.01676 |  0:02:33s\n",
      "epoch 80 | loss: 0.01561 | val_logits_ll: 0.01647 |  0:02:53s\n",
      "epoch 90 | loss: 0.0153  | val_logits_ll: 0.01653 |  0:03:14s\n",
      "epoch 100| loss: 0.01488 | val_logits_ll: 0.01683 |  0:03:36s\n",
      "epoch 110| loss: 0.01442 | val_logits_ll: 0.01685 |  0:03:58s\n",
      "epoch 120| loss: 0.01411 | val_logits_ll: 0.01705 |  0:04:19s\n",
      "\n",
      "Early stopping occured at epoch 128 with best_epoch = 78 and best_val_logits_ll = 0.01645\n",
      "Best weights from best epoch are automatically used!\n",
      "\u001b[33m ------------------------------------------------------------\n",
      "Successfully saved model at overfitting_SEED42_FOLD1.zip\n",
      "\u001b[34m FOLDS:  \u001b[31m 3 \u001b[33m seed: 42\n",
      "\u001b[32m ************************************************************ \u001b[36m\n",
      "Device used : cuda\n",
      "epoch 0  | loss: 0.31176 | val_logits_ll: 0.03078 |  0:00:01s\n",
      "epoch 10 | loss: 0.01943 | val_logits_ll: 0.01943 |  0:00:21s\n",
      "epoch 20 | loss: 0.01759 | val_logits_ll: 0.02107 |  0:00:41s\n",
      "epoch 30 | loss: 0.01697 | val_logits_ll: 0.01765 |  0:01:00s\n",
      "epoch 40 | loss: 0.01662 | val_logits_ll: 0.01752 |  0:01:21s\n",
      "epoch 50 | loss: 0.01644 | val_logits_ll: 0.01689 |  0:01:43s\n",
      "epoch 60 | loss: 0.01612 | val_logits_ll: 0.01714 |  0:02:03s\n",
      "epoch 70 | loss: 0.01574 | val_logits_ll: 0.01688 |  0:02:24s\n",
      "epoch 80 | loss: 0.01543 | val_logits_ll: 0.01693 |  0:02:46s\n",
      "epoch 90 | loss: 0.01513 | val_logits_ll: 0.01693 |  0:03:07s\n",
      "epoch 100| loss: 0.0148  | val_logits_ll: 0.01706 |  0:03:29s\n",
      "epoch 110| loss: 0.01422 | val_logits_ll: 0.01824 |  0:03:51s\n",
      "epoch 120| loss: 0.01376 | val_logits_ll: 0.01752 |  0:04:13s\n",
      "epoch 130| loss: 0.01315 | val_logits_ll: 0.01776 |  0:04:35s\n",
      "\n",
      "Early stopping occured at epoch 134 with best_epoch = 84 and best_val_logits_ll = 0.01678\n",
      "Best weights from best epoch are automatically used!\n",
      "\u001b[33m ------------------------------------------------------------\n",
      "Successfully saved model at overfitting_SEED42_FOLD2.zip\n",
      "\u001b[34m FOLDS:  \u001b[31m 4 \u001b[33m seed: 42\n",
      "\u001b[32m ************************************************************ \u001b[36m\n",
      "Device used : cuda\n",
      "epoch 0  | loss: 0.31586 | val_logits_ll: 0.03056 |  0:00:01s\n",
      "epoch 10 | loss: 0.01899 | val_logits_ll: 0.01854 |  0:00:21s\n",
      "epoch 20 | loss: 0.01739 | val_logits_ll: 0.02109 |  0:00:41s\n",
      "epoch 30 | loss: 0.01691 | val_logits_ll: 0.01701 |  0:01:01s\n",
      "epoch 40 | loss: 0.01669 | val_logits_ll: 0.01691 |  0:01:22s\n",
      "epoch 50 | loss: 0.01634 | val_logits_ll: 0.01679 |  0:01:44s\n",
      "epoch 60 | loss: 0.01602 | val_logits_ll: 0.01672 |  0:02:06s\n",
      "epoch 70 | loss: 0.01578 | val_logits_ll: 0.01676 |  0:02:28s\n",
      "epoch 80 | loss: 0.01564 | val_logits_ll: 0.01656 |  0:02:50s\n",
      "epoch 90 | loss: 0.01523 | val_logits_ll: 0.01653 |  0:03:11s\n",
      "epoch 100| loss: 0.01519 | val_logits_ll: 0.01656 |  0:03:33s\n",
      "epoch 110| loss: 0.01488 | val_logits_ll: 0.01672 |  0:03:55s\n",
      "epoch 120| loss: 0.01444 | val_logits_ll: 0.0167  |  0:04:17s\n",
      "epoch 130| loss: 0.014   | val_logits_ll: 0.01694 |  0:04:38s\n",
      "epoch 140| loss: 0.01352 | val_logits_ll: 0.01731 |  0:05:00s\n",
      "\n",
      "Early stopping occured at epoch 143 with best_epoch = 93 and best_val_logits_ll = 0.01644\n",
      "Best weights from best epoch are automatically used!\n",
      "\u001b[33m ------------------------------------------------------------\n",
      "Successfully saved model at overfitting_SEED42_FOLD3.zip\n",
      "\u001b[34m FOLDS:  \u001b[31m 5 \u001b[33m seed: 42\n",
      "\u001b[32m ************************************************************ \u001b[36m\n",
      "Device used : cuda\n",
      "epoch 0  | loss: 0.31323 | val_logits_ll: 0.03096 |  0:00:02s\n",
      "epoch 10 | loss: 0.01878 | val_logits_ll: 0.01853 |  0:00:24s\n",
      "epoch 20 | loss: 0.01729 | val_logits_ll: 0.01953 |  0:00:45s\n",
      "epoch 30 | loss: 0.01688 | val_logits_ll: 0.01759 |  0:01:07s\n",
      "epoch 40 | loss: 0.01637 | val_logits_ll: 0.01723 |  0:01:29s\n",
      "epoch 50 | loss: 0.01607 | val_logits_ll: 0.0168  |  0:01:51s\n",
      "epoch 60 | loss: 0.01584 | val_logits_ll: 0.01683 |  0:02:13s\n",
      "epoch 70 | loss: 0.01564 | val_logits_ll: 0.01713 |  0:02:35s\n",
      "epoch 80 | loss: 0.01532 | val_logits_ll: 0.0168  |  0:02:57s\n",
      "epoch 90 | loss: 0.01483 | val_logits_ll: 0.01699 |  0:03:19s\n",
      "epoch 100| loss: 0.01433 | val_logits_ll: 0.01708 |  0:03:40s\n",
      "epoch 110| loss: 0.01391 | val_logits_ll: 0.01736 |  0:04:02s\n",
      "\n",
      "Early stopping occured at epoch 118 with best_epoch = 68 and best_val_logits_ll = 0.01674\n",
      "Best weights from best epoch are automatically used!\n",
      "\u001b[33m ------------------------------------------------------------\n",
      "Successfully saved model at overfitting_SEED42_FOLD4.zip\n",
      "\u001b[34m FOLDS:  \u001b[31m 6 \u001b[33m seed: 42\n",
      "\u001b[32m ************************************************************ \u001b[36m\n",
      "Device used : cuda\n",
      "epoch 0  | loss: 0.30876 | val_logits_ll: 0.02945 |  0:00:01s\n",
      "epoch 10 | loss: 0.019   | val_logits_ll: 0.01866 |  0:00:22s\n",
      "epoch 20 | loss: 0.01738 | val_logits_ll: 0.01775 |  0:00:43s\n",
      "epoch 30 | loss: 0.01694 | val_logits_ll: 0.01721 |  0:01:05s\n",
      "epoch 40 | loss: 0.0165  | val_logits_ll: 0.01704 |  0:01:26s\n",
      "epoch 50 | loss: 0.01638 | val_logits_ll: 0.01692 |  0:01:47s\n",
      "epoch 60 | loss: 0.01617 | val_logits_ll: 0.01704 |  0:02:07s\n",
      "epoch 70 | loss: 0.01597 | val_logits_ll: 0.01664 |  0:02:28s\n",
      "epoch 80 | loss: 0.01552 | val_logits_ll: 0.01663 |  0:02:49s\n",
      "epoch 90 | loss: 0.01547 | val_logits_ll: 0.01676 |  0:03:11s\n",
      "epoch 100| loss: 0.01487 | val_logits_ll: 0.01684 |  0:03:32s\n",
      "epoch 110| loss: 0.01453 | val_logits_ll: 0.01727 |  0:03:54s\n",
      "epoch 120| loss: 0.0141  | val_logits_ll: 0.01719 |  0:04:16s\n",
      "epoch 130| loss: 0.01359 | val_logits_ll: 0.01741 |  0:04:38s\n",
      "\n",
      "Early stopping occured at epoch 134 with best_epoch = 84 and best_val_logits_ll = 0.01655\n",
      "Best weights from best epoch are automatically used!\n",
      "\u001b[33m ------------------------------------------------------------\n",
      "Successfully saved model at overfitting_SEED42_FOLD5.zip\n",
      "\u001b[34m FOLDS:  \u001b[31m 7 \u001b[33m seed: 42\n",
      "\u001b[32m ************************************************************ \u001b[36m\n",
      "Device used : cuda\n",
      "epoch 0  | loss: 0.30881 | val_logits_ll: 0.02974 |  0:00:01s\n",
      "epoch 10 | loss: 0.01923 | val_logits_ll: 0.01899 |  0:00:21s\n",
      "epoch 20 | loss: 0.01756 | val_logits_ll: 0.01903 |  0:00:42s\n",
      "epoch 30 | loss: 0.01702 | val_logits_ll: 0.01713 |  0:01:04s\n",
      "epoch 40 | loss: 0.01675 | val_logits_ll: 0.01709 |  0:01:25s\n",
      "epoch 50 | loss: 0.01635 | val_logits_ll: 0.01699 |  0:01:47s\n",
      "epoch 60 | loss: 0.01623 | val_logits_ll: 0.01687 |  0:02:09s\n",
      "epoch 70 | loss: 0.01604 | val_logits_ll: 0.01687 |  0:02:31s\n",
      "epoch 80 | loss: 0.01594 | val_logits_ll: 0.01681 |  0:02:52s\n",
      "epoch 90 | loss: 0.0155  | val_logits_ll: 0.01672 |  0:03:13s\n",
      "epoch 100| loss: 0.01516 | val_logits_ll: 0.01668 |  0:03:35s\n",
      "epoch 110| loss: 0.01482 | val_logits_ll: 0.01678 |  0:03:57s\n"
     ]
    },
    {
     "name": "stdout",
     "output_type": "stream",
     "text": [
      "epoch 120| loss: 0.01432 | val_logits_ll: 0.01689 |  0:04:19s\n",
      "\n",
      "Early stopping occured at epoch 125 with best_epoch = 75 and best_val_logits_ll = 0.01659\n",
      "Best weights from best epoch are automatically used!\n",
      "\u001b[33m ------------------------------------------------------------\n",
      "Successfully saved model at overfitting_SEED42_FOLD6.zip\n",
      "\u001b[34m FOLDS:  \u001b[31m 1 \u001b[33m seed: 43\n",
      "\u001b[32m ************************************************************ \u001b[36m\n",
      "Device used : cuda\n",
      "epoch 0  | loss: 0.32049 | val_logits_ll: 0.03079 |  0:00:01s\n",
      "epoch 10 | loss: 0.01933 | val_logits_ll: 0.01907 |  0:00:22s\n",
      "epoch 20 | loss: 0.0175  | val_logits_ll: 0.02226 |  0:00:43s\n",
      "epoch 30 | loss: 0.01701 | val_logits_ll: 0.01875 |  0:01:05s\n",
      "epoch 40 | loss: 0.01666 | val_logits_ll: 0.01754 |  0:01:27s\n",
      "epoch 50 | loss: 0.01657 | val_logits_ll: 0.01697 |  0:01:49s\n",
      "epoch 60 | loss: 0.01609 | val_logits_ll: 0.01663 |  0:02:11s\n",
      "epoch 70 | loss: 0.01589 | val_logits_ll: 0.01686 |  0:02:32s\n",
      "epoch 80 | loss: 0.01569 | val_logits_ll: 0.01663 |  0:02:54s\n",
      "epoch 90 | loss: 0.0155  | val_logits_ll: 0.01676 |  0:03:16s\n",
      "epoch 100| loss: 0.01532 | val_logits_ll: 0.01662 |  0:03:38s\n",
      "epoch 110| loss: 0.01492 | val_logits_ll: 0.01669 |  0:03:59s\n",
      "epoch 120| loss: 0.01457 | val_logits_ll: 0.01679 |  0:04:21s\n",
      "epoch 130| loss: 0.01428 | val_logits_ll: 0.01711 |  0:04:43s\n",
      "epoch 140| loss: 0.01375 | val_logits_ll: 0.01752 |  0:05:05s\n",
      "epoch 150| loss: 0.0134  | val_logits_ll: 0.01749 |  0:05:27s\n",
      "\n",
      "Early stopping occured at epoch 151 with best_epoch = 101 and best_val_logits_ll = 0.01655\n",
      "Best weights from best epoch are automatically used!\n",
      "\u001b[33m ------------------------------------------------------------\n",
      "Successfully saved model at overfitting_SEED43_FOLD0.zip\n",
      "\u001b[34m FOLDS:  \u001b[31m 2 \u001b[33m seed: 43\n",
      "\u001b[32m ************************************************************ \u001b[36m\n",
      "Device used : cuda\n",
      "epoch 0  | loss: 0.31982 | val_logits_ll: 0.0298  |  0:00:01s\n",
      "epoch 10 | loss: 0.01945 | val_logits_ll: 0.01909 |  0:00:22s\n",
      "epoch 20 | loss: 0.01757 | val_logits_ll: 0.01985 |  0:00:43s\n",
      "epoch 30 | loss: 0.01712 | val_logits_ll: 0.01713 |  0:01:05s\n",
      "epoch 40 | loss: 0.01673 | val_logits_ll: 0.01695 |  0:01:27s\n",
      "epoch 50 | loss: 0.01648 | val_logits_ll: 0.01683 |  0:01:49s\n",
      "epoch 60 | loss: 0.0161  | val_logits_ll: 0.01681 |  0:02:10s\n",
      "epoch 70 | loss: 0.01597 | val_logits_ll: 0.01679 |  0:02:32s\n",
      "epoch 80 | loss: 0.01568 | val_logits_ll: 0.01672 |  0:02:54s\n",
      "epoch 90 | loss: 0.01525 | val_logits_ll: 0.01652 |  0:03:16s\n",
      "epoch 100| loss: 0.01505 | val_logits_ll: 0.01673 |  0:03:38s\n",
      "epoch 110| loss: 0.01467 | val_logits_ll: 0.01675 |  0:04:00s\n",
      "epoch 120| loss: 0.01436 | val_logits_ll: 0.01669 |  0:04:22s\n",
      "epoch 130| loss: 0.01383 | val_logits_ll: 0.01696 |  0:04:44s\n",
      "\n",
      "Early stopping occured at epoch 139 with best_epoch = 89 and best_val_logits_ll = 0.01645\n",
      "Best weights from best epoch are automatically used!\n",
      "\u001b[33m ------------------------------------------------------------\n",
      "Successfully saved model at overfitting_SEED43_FOLD1.zip\n",
      "\u001b[34m FOLDS:  \u001b[31m 3 \u001b[33m seed: 43\n",
      "\u001b[32m ************************************************************ \u001b[36m\n",
      "Device used : cuda\n",
      "epoch 0  | loss: 0.31741 | val_logits_ll: 0.02973 |  0:00:01s\n",
      "epoch 10 | loss: 0.01937 | val_logits_ll: 0.01933 |  0:00:21s\n",
      "epoch 20 | loss: 0.01771 | val_logits_ll: 0.01982 |  0:00:42s\n",
      "epoch 30 | loss: 0.01721 | val_logits_ll: 0.01763 |  0:01:04s\n",
      "epoch 40 | loss: 0.0169  | val_logits_ll: 0.01727 |  0:01:26s\n",
      "epoch 50 | loss: 0.01672 | val_logits_ll: 0.01711 |  0:01:48s\n",
      "epoch 60 | loss: 0.01647 | val_logits_ll: 0.01711 |  0:02:10s\n",
      "epoch 70 | loss: 0.01621 | val_logits_ll: 0.01692 |  0:02:31s\n",
      "epoch 80 | loss: 0.01606 | val_logits_ll: 0.01682 |  0:02:53s\n",
      "epoch 90 | loss: 0.01591 | val_logits_ll: 0.0168  |  0:03:15s\n",
      "epoch 100| loss: 0.01571 | val_logits_ll: 0.01675 |  0:03:36s\n",
      "epoch 110| loss: 0.0155  | val_logits_ll: 0.01675 |  0:03:58s\n",
      "epoch 120| loss: 0.01598 | val_logits_ll: 0.01683 |  0:04:20s\n",
      "epoch 130| loss: 0.01505 | val_logits_ll: 0.01695 |  0:04:41s\n",
      "epoch 140| loss: 0.01469 | val_logits_ll: 0.0169  |  0:05:03s\n",
      "epoch 150| loss: 0.01438 | val_logits_ll: 0.01719 |  0:05:25s\n",
      "epoch 160| loss: 0.01382 | val_logits_ll: 0.0174  |  0:05:47s\n",
      "epoch 170| loss: 0.0135  | val_logits_ll: 0.01742 |  0:06:08s\n",
      "\n",
      "Early stopping occured at epoch 171 with best_epoch = 121 and best_val_logits_ll = 0.01667\n",
      "Best weights from best epoch are automatically used!\n",
      "\u001b[33m ------------------------------------------------------------\n",
      "Successfully saved model at overfitting_SEED43_FOLD2.zip\n",
      "\u001b[34m FOLDS:  \u001b[31m 4 \u001b[33m seed: 43\n",
      "\u001b[32m ************************************************************ \u001b[36m\n",
      "Device used : cuda\n",
      "epoch 0  | loss: 0.31756 | val_logits_ll: 0.02984 |  0:00:02s\n",
      "epoch 10 | loss: 0.0192  | val_logits_ll: 0.01864 |  0:00:23s\n",
      "epoch 20 | loss: 0.01761 | val_logits_ll: 0.02133 |  0:00:45s\n",
      "epoch 30 | loss: 0.01723 | val_logits_ll: 0.01721 |  0:01:06s\n",
      "epoch 40 | loss: 0.01652 | val_logits_ll: 0.01697 |  0:01:28s\n",
      "epoch 50 | loss: 0.01628 | val_logits_ll: 0.0168  |  0:01:49s\n",
      "epoch 60 | loss: 0.01599 | val_logits_ll: 0.01671 |  0:02:11s\n",
      "epoch 70 | loss: 0.01564 | val_logits_ll: 0.01685 |  0:02:33s\n",
      "epoch 80 | loss: 0.01542 | val_logits_ll: 0.01697 |  0:02:55s\n",
      "epoch 90 | loss: 0.01495 | val_logits_ll: 0.0167  |  0:03:16s\n",
      "epoch 100| loss: 0.01453 | val_logits_ll: 0.01677 |  0:03:37s\n",
      "epoch 110| loss: 0.01394 | val_logits_ll: 0.01738 |  0:03:59s\n",
      "epoch 120| loss: 0.01352 | val_logits_ll: 0.01729 |  0:04:21s\n",
      "\n",
      "Early stopping occured at epoch 127 with best_epoch = 77 and best_val_logits_ll = 0.01647\n",
      "Best weights from best epoch are automatically used!\n",
      "\u001b[33m ------------------------------------------------------------\n",
      "Successfully saved model at overfitting_SEED43_FOLD3.zip\n",
      "\u001b[34m FOLDS:  \u001b[31m 5 \u001b[33m seed: 43\n",
      "\u001b[32m ************************************************************ \u001b[36m\n",
      "Device used : cuda\n",
      "epoch 0  | loss: 0.32267 | val_logits_ll: 0.03125 |  0:00:01s\n",
      "epoch 10 | loss: 0.01921 | val_logits_ll: 0.01948 |  0:00:21s\n",
      "epoch 20 | loss: 0.01791 | val_logits_ll: 0.01816 |  0:00:41s\n",
      "epoch 30 | loss: 0.01707 | val_logits_ll: 0.01751 |  0:01:00s\n",
      "epoch 40 | loss: 0.01674 | val_logits_ll: 0.01792 |  0:01:20s\n",
      "epoch 50 | loss: 0.01647 | val_logits_ll: 0.01712 |  0:01:40s\n",
      "epoch 60 | loss: 0.01631 | val_logits_ll: 0.01696 |  0:01:59s\n",
      "epoch 70 | loss: 0.01612 | val_logits_ll: 0.01695 |  0:02:19s\n",
      "epoch 80 | loss: 0.0158  | val_logits_ll: 0.01679 |  0:02:39s\n",
      "epoch 90 | loss: 0.01569 | val_logits_ll: 0.01667 |  0:03:00s\n",
      "epoch 100| loss: 0.01533 | val_logits_ll: 0.01676 |  0:03:22s\n",
      "epoch 110| loss: 0.01482 | val_logits_ll: 0.01683 |  0:03:43s\n",
      "epoch 120| loss: 0.01452 | val_logits_ll: 0.01699 |  0:04:05s\n",
      "epoch 130| loss: 0.01399 | val_logits_ll: 0.0172  |  0:04:27s\n",
      "epoch 140| loss: 0.01354 | val_logits_ll: 0.01747 |  0:04:49s\n",
      "\n",
      "Early stopping occured at epoch 140 with best_epoch = 90 and best_val_logits_ll = 0.01667\n",
      "Best weights from best epoch are automatically used!\n",
      "\u001b[33m ------------------------------------------------------------\n",
      "Successfully saved model at overfitting_SEED43_FOLD4.zip\n",
      "\u001b[34m FOLDS:  \u001b[31m 6 \u001b[33m seed: 43\n",
      "\u001b[32m ************************************************************ \u001b[36m\n",
      "Device used : cuda\n",
      "epoch 0  | loss: 0.32215 | val_logits_ll: 0.0321  |  0:00:01s\n",
      "epoch 10 | loss: 0.01912 | val_logits_ll: 0.01885 |  0:00:23s\n",
      "epoch 20 | loss: 0.01739 | val_logits_ll: 0.02037 |  0:00:45s\n",
      "epoch 30 | loss: 0.01701 | val_logits_ll: 0.01756 |  0:01:07s\n",
      "epoch 40 | loss: 0.01656 | val_logits_ll: 0.01702 |  0:01:29s\n",
      "epoch 50 | loss: 0.01654 | val_logits_ll: 0.01685 |  0:01:50s\n",
      "epoch 60 | loss: 0.01616 | val_logits_ll: 0.01679 |  0:02:12s\n",
      "epoch 70 | loss: 0.01595 | val_logits_ll: 0.01668 |  0:02:34s\n",
      "epoch 80 | loss: 0.01571 | val_logits_ll: 0.01666 |  0:02:55s\n",
      "epoch 90 | loss: 0.0155  | val_logits_ll: 0.01718 |  0:03:16s\n",
      "epoch 100| loss: 0.01508 | val_logits_ll: 0.01669 |  0:03:38s\n",
      "epoch 110| loss: 0.0146  | val_logits_ll: 0.01692 |  0:04:00s\n",
      "epoch 120| loss: 0.01426 | val_logits_ll: 0.01687 |  0:04:22s\n",
      "epoch 130| loss: 0.01375 | val_logits_ll: 0.01708 |  0:04:44s\n",
      "\n",
      "Early stopping occured at epoch 131 with best_epoch = 81 and best_val_logits_ll = 0.01647\n",
      "Best weights from best epoch are automatically used!\n",
      "\u001b[33m ------------------------------------------------------------\n",
      "Successfully saved model at overfitting_SEED43_FOLD5.zip\n"
     ]
    },
    {
     "name": "stdout",
     "output_type": "stream",
     "text": [
      "\u001b[34m FOLDS:  \u001b[31m 7 \u001b[33m seed: 43\n",
      "\u001b[32m ************************************************************ \u001b[36m\n",
      "Device used : cuda\n",
      "epoch 0  | loss: 0.32088 | val_logits_ll: 0.03134 |  0:00:02s\n",
      "epoch 10 | loss: 0.01919 | val_logits_ll: 0.01907 |  0:00:34s\n",
      "epoch 20 | loss: 0.01763 | val_logits_ll: 0.02013 |  0:01:00s\n",
      "epoch 30 | loss: 0.01711 | val_logits_ll: 0.01769 |  0:01:22s\n",
      "epoch 40 | loss: 0.01682 | val_logits_ll: 0.01706 |  0:01:44s\n",
      "epoch 50 | loss: 0.01653 | val_logits_ll: 0.0171  |  0:02:06s\n",
      "epoch 60 | loss: 0.01634 | val_logits_ll: 0.01686 |  0:02:28s\n",
      "epoch 70 | loss: 0.01615 | val_logits_ll: 0.0167  |  0:02:49s\n",
      "epoch 80 | loss: 0.01604 | val_logits_ll: 0.01692 |  0:03:10s\n",
      "epoch 90 | loss: 0.01564 | val_logits_ll: 0.01665 |  0:03:31s\n",
      "epoch 100| loss: 0.01565 | val_logits_ll: 0.01668 |  0:03:52s\n",
      "epoch 110| loss: 0.01539 | val_logits_ll: 0.01664 |  0:04:14s\n",
      "epoch 120| loss: 0.01498 | val_logits_ll: 0.01678 |  0:04:36s\n",
      "epoch 130| loss: 0.01477 | val_logits_ll: 0.01685 |  0:04:59s\n",
      "epoch 140| loss: 0.01437 | val_logits_ll: 0.01698 |  0:05:20s\n",
      "epoch 150| loss: 0.01385 | val_logits_ll: 0.01708 |  0:05:42s\n",
      "epoch 160| loss: 0.01349 | val_logits_ll: 0.01728 |  0:06:03s\n",
      "\n",
      "Early stopping occured at epoch 162 with best_epoch = 112 and best_val_logits_ll = 0.01659\n",
      "Best weights from best epoch are automatically used!\n",
      "\u001b[33m ------------------------------------------------------------\n",
      "Successfully saved model at overfitting_SEED43_FOLD6.zip\n",
      "\u001b[34m FOLDS:  \u001b[31m 1 \u001b[33m seed: 44\n",
      "\u001b[32m ************************************************************ \u001b[36m\n",
      "Device used : cuda\n",
      "epoch 0  | loss: 0.36312 | val_logits_ll: 0.03637 |  0:00:01s\n",
      "epoch 10 | loss: 0.01876 | val_logits_ll: 0.01854 |  0:00:23s\n",
      "epoch 20 | loss: 0.01736 | val_logits_ll: 0.02384 |  0:00:45s\n",
      "epoch 30 | loss: 0.01696 | val_logits_ll: 0.01995 |  0:01:06s\n",
      "epoch 40 | loss: 0.01661 | val_logits_ll: 0.01707 |  0:01:27s\n",
      "epoch 50 | loss: 0.01636 | val_logits_ll: 0.01707 |  0:01:49s\n",
      "epoch 60 | loss: 0.0162  | val_logits_ll: 0.01672 |  0:02:11s\n",
      "epoch 70 | loss: 0.01585 | val_logits_ll: 0.01673 |  0:02:32s\n",
      "epoch 80 | loss: 0.01584 | val_logits_ll: 0.01662 |  0:02:54s\n",
      "epoch 90 | loss: 0.0155  | val_logits_ll: 0.01648 |  0:03:16s\n",
      "epoch 100| loss: 0.01534 | val_logits_ll: 0.01688 |  0:03:37s\n",
      "epoch 110| loss: 0.01502 | val_logits_ll: 0.01665 |  0:03:59s\n",
      "epoch 120| loss: 0.01473 | val_logits_ll: 0.01672 |  0:04:21s\n",
      "epoch 130| loss: 0.01422 | val_logits_ll: 0.0169  |  0:04:42s\n",
      "epoch 140| loss: 0.01367 | val_logits_ll: 0.01708 |  0:05:04s\n",
      "\n",
      "Early stopping occured at epoch 140 with best_epoch = 90 and best_val_logits_ll = 0.01648\n",
      "Best weights from best epoch are automatically used!\n",
      "\u001b[33m ------------------------------------------------------------\n",
      "Successfully saved model at overfitting_SEED44_FOLD0.zip\n",
      "\u001b[34m FOLDS:  \u001b[31m 2 \u001b[33m seed: 44\n",
      "\u001b[32m ************************************************************ \u001b[36m\n",
      "Device used : cuda\n",
      "epoch 0  | loss: 0.36045 | val_logits_ll: 0.03534 |  0:00:01s\n",
      "epoch 10 | loss: 0.01961 | val_logits_ll: 0.01964 |  0:00:21s\n",
      "epoch 20 | loss: 0.01774 | val_logits_ll: 0.02163 |  0:00:41s\n",
      "epoch 30 | loss: 0.01716 | val_logits_ll: 0.01736 |  0:01:01s\n",
      "epoch 40 | loss: 0.01678 | val_logits_ll: 0.01704 |  0:01:23s\n",
      "epoch 50 | loss: 0.01661 | val_logits_ll: 0.01676 |  0:01:44s\n",
      "epoch 60 | loss: 0.01649 | val_logits_ll: 0.01686 |  0:02:06s\n",
      "epoch 70 | loss: 0.01623 | val_logits_ll: 0.01668 |  0:02:27s\n",
      "epoch 80 | loss: 0.01592 | val_logits_ll: 0.0166  |  0:02:49s\n",
      "epoch 90 | loss: 0.01574 | val_logits_ll: 0.01652 |  0:03:11s\n",
      "epoch 100| loss: 0.0153  | val_logits_ll: 0.01696 |  0:03:32s\n",
      "epoch 110| loss: 0.01489 | val_logits_ll: 0.01669 |  0:03:54s\n",
      "epoch 120| loss: 0.01463 | val_logits_ll: 0.01685 |  0:04:16s\n",
      "epoch 130| loss: 0.01421 | val_logits_ll: 0.01704 |  0:04:37s\n",
      "epoch 140| loss: 0.01359 | val_logits_ll: 0.01729 |  0:04:59s\n",
      "epoch 150| loss: 0.01318 | val_logits_ll: 0.01758 |  0:05:21s\n",
      "\n",
      "Early stopping occured at epoch 159 with best_epoch = 109 and best_val_logits_ll = 0.01649\n",
      "Best weights from best epoch are automatically used!\n",
      "\u001b[33m ------------------------------------------------------------\n",
      "Successfully saved model at overfitting_SEED44_FOLD1.zip\n",
      "\u001b[34m FOLDS:  \u001b[31m 3 \u001b[33m seed: 44\n",
      "\u001b[32m ************************************************************ \u001b[36m\n",
      "Device used : cuda\n",
      "epoch 0  | loss: 0.36083 | val_logits_ll: 0.03605 |  0:00:01s\n",
      "epoch 10 | loss: 0.01909 | val_logits_ll: 0.01907 |  0:00:21s\n",
      "epoch 20 | loss: 0.01751 | val_logits_ll: 0.01788 |  0:00:41s\n",
      "epoch 30 | loss: 0.01709 | val_logits_ll: 0.0175  |  0:01:01s\n",
      "epoch 40 | loss: 0.01663 | val_logits_ll: 0.01816 |  0:01:22s\n",
      "epoch 50 | loss: 0.0164  | val_logits_ll: 0.01732 |  0:01:44s\n",
      "epoch 60 | loss: 0.01633 | val_logits_ll: 0.01738 |  0:02:06s\n",
      "epoch 70 | loss: 0.01619 | val_logits_ll: 0.01694 |  0:02:28s\n",
      "epoch 80 | loss: 0.01579 | val_logits_ll: 0.01689 |  0:02:49s\n",
      "epoch 90 | loss: 0.01567 | val_logits_ll: 0.01682 |  0:03:11s\n",
      "epoch 100| loss: 0.01519 | val_logits_ll: 0.01688 |  0:03:33s\n",
      "epoch 110| loss: 0.01503 | val_logits_ll: 0.0168  |  0:03:55s\n",
      "epoch 120| loss: 0.01456 | val_logits_ll: 0.0169  |  0:04:17s\n",
      "epoch 130| loss: 0.014   | val_logits_ll: 0.01718 |  0:04:39s\n",
      "epoch 140| loss: 0.01368 | val_logits_ll: 0.01737 |  0:05:01s\n",
      "\n",
      "Early stopping occured at epoch 149 with best_epoch = 99 and best_val_logits_ll = 0.01666\n",
      "Best weights from best epoch are automatically used!\n",
      "\u001b[33m ------------------------------------------------------------\n",
      "Successfully saved model at overfitting_SEED44_FOLD2.zip\n",
      "\u001b[34m FOLDS:  \u001b[31m 4 \u001b[33m seed: 44\n",
      "\u001b[32m ************************************************************ \u001b[36m\n",
      "Device used : cuda\n",
      "epoch 0  | loss: 0.36148 | val_logits_ll: 0.03567 |  0:00:01s\n",
      "epoch 10 | loss: 0.01933 | val_logits_ll: 0.0188  |  0:00:21s\n",
      "epoch 20 | loss: 0.01775 | val_logits_ll: 0.02106 |  0:00:41s\n",
      "epoch 30 | loss: 0.01712 | val_logits_ll: 0.01736 |  0:01:02s\n",
      "epoch 40 | loss: 0.01669 | val_logits_ll: 0.0168  |  0:01:24s\n",
      "epoch 50 | loss: 0.0165  | val_logits_ll: 0.01703 |  0:01:45s\n",
      "epoch 60 | loss: 0.01627 | val_logits_ll: 0.0166  |  0:02:07s\n",
      "epoch 70 | loss: 0.01661 | val_logits_ll: 0.01677 |  0:02:29s\n",
      "epoch 80 | loss: 0.01589 | val_logits_ll: 0.01666 |  0:02:51s\n",
      "epoch 90 | loss: 0.0156  | val_logits_ll: 0.01657 |  0:03:13s\n",
      "epoch 100| loss: 0.01535 | val_logits_ll: 0.01645 |  0:03:34s\n",
      "epoch 110| loss: 0.01508 | val_logits_ll: 0.01672 |  0:03:56s\n",
      "epoch 120| loss: 0.01461 | val_logits_ll: 0.0169  |  0:04:18s\n",
      "epoch 130| loss: 0.01419 | val_logits_ll: 0.01696 |  0:04:39s\n",
      "\n",
      "Early stopping occured at epoch 131 with best_epoch = 81 and best_val_logits_ll = 0.01644\n",
      "Best weights from best epoch are automatically used!\n",
      "\u001b[33m ------------------------------------------------------------\n",
      "Successfully saved model at overfitting_SEED44_FOLD3.zip\n",
      "\u001b[34m FOLDS:  \u001b[31m 5 \u001b[33m seed: 44\n",
      "\u001b[32m ************************************************************ \u001b[36m\n",
      "Device used : cuda\n",
      "epoch 0  | loss: 0.36265 | val_logits_ll: 0.03676 |  0:00:01s\n",
      "epoch 10 | loss: 0.01893 | val_logits_ll: 0.01889 |  0:00:21s\n",
      "epoch 20 | loss: 0.01729 | val_logits_ll: 0.01895 |  0:00:41s\n",
      "epoch 30 | loss: 0.01699 | val_logits_ll: 0.01802 |  0:01:00s\n",
      "epoch 40 | loss: 0.01645 | val_logits_ll: 0.01716 |  0:01:20s\n",
      "epoch 50 | loss: 0.01615 | val_logits_ll: 0.01693 |  0:01:41s\n",
      "epoch 60 | loss: 0.01583 | val_logits_ll: 0.01686 |  0:02:03s\n",
      "epoch 70 | loss: 0.01573 | val_logits_ll: 0.01703 |  0:02:25s\n",
      "epoch 80 | loss: 0.01517 | val_logits_ll: 0.01695 |  0:02:46s\n",
      "epoch 90 | loss: 0.01466 | val_logits_ll: 0.01699 |  0:03:08s\n",
      "epoch 100| loss: 0.0142  | val_logits_ll: 0.01723 |  0:03:30s\n",
      "\n",
      "Early stopping occured at epoch 102 with best_epoch = 52 and best_val_logits_ll = 0.0168\n",
      "Best weights from best epoch are automatically used!\n",
      "\u001b[33m ------------------------------------------------------------\n",
      "Successfully saved model at overfitting_SEED44_FOLD4.zip\n",
      "\u001b[34m FOLDS:  \u001b[31m 6 \u001b[33m seed: 44\n",
      "\u001b[32m ************************************************************ \u001b[36m\n",
      "Device used : cuda\n",
      "epoch 0  | loss: 0.35936 | val_logits_ll: 0.03314 |  0:00:01s\n",
      "epoch 10 | loss: 0.01917 | val_logits_ll: 0.01889 |  0:00:21s\n",
      "epoch 20 | loss: 0.01762 | val_logits_ll: 0.01822 |  0:00:42s\n",
      "epoch 30 | loss: 0.01713 | val_logits_ll: 0.01988 |  0:01:03s\n"
     ]
    },
    {
     "name": "stdout",
     "output_type": "stream",
     "text": [
      "epoch 40 | loss: 0.0167  | val_logits_ll: 0.01762 |  0:01:25s\n",
      "epoch 50 | loss: 0.01652 | val_logits_ll: 0.01703 |  0:01:47s\n",
      "epoch 60 | loss: 0.01635 | val_logits_ll: 0.01698 |  0:02:09s\n",
      "epoch 70 | loss: 0.01605 | val_logits_ll: 0.01672 |  0:02:30s\n",
      "epoch 80 | loss: 0.01583 | val_logits_ll: 0.01668 |  0:02:52s\n",
      "epoch 90 | loss: 0.0155  | val_logits_ll: 0.0168  |  0:03:13s\n",
      "epoch 100| loss: 0.01526 | val_logits_ll: 0.01681 |  0:03:35s\n",
      "epoch 110| loss: 0.01481 | val_logits_ll: 0.01673 |  0:03:56s\n",
      "epoch 120| loss: 0.0145  | val_logits_ll: 0.01693 |  0:04:17s\n",
      "epoch 130| loss: 0.01394 | val_logits_ll: 0.01723 |  0:04:39s\n",
      "\n",
      "Early stopping occured at epoch 134 with best_epoch = 84 and best_val_logits_ll = 0.01659\n",
      "Best weights from best epoch are automatically used!\n",
      "\u001b[33m ------------------------------------------------------------\n",
      "Successfully saved model at overfitting_SEED44_FOLD5.zip\n",
      "\u001b[34m FOLDS:  \u001b[31m 7 \u001b[33m seed: 44\n",
      "\u001b[32m ************************************************************ \u001b[36m\n",
      "Device used : cuda\n",
      "epoch 0  | loss: 0.36337 | val_logits_ll: 0.03617 |  0:00:01s\n",
      "epoch 10 | loss: 0.01916 | val_logits_ll: 0.0191  |  0:00:21s\n",
      "epoch 20 | loss: 0.01767 | val_logits_ll: 0.01866 |  0:00:41s\n",
      "epoch 30 | loss: 0.01698 | val_logits_ll: 0.01747 |  0:01:00s\n",
      "epoch 40 | loss: 0.0168  | val_logits_ll: 0.01717 |  0:01:22s\n",
      "epoch 50 | loss: 0.01656 | val_logits_ll: 0.01693 |  0:01:44s\n",
      "epoch 60 | loss: 0.01623 | val_logits_ll: 0.01692 |  0:02:05s\n",
      "epoch 70 | loss: 0.01606 | val_logits_ll: 0.01677 |  0:02:27s\n",
      "epoch 80 | loss: 0.0158  | val_logits_ll: 0.01677 |  0:02:49s\n",
      "epoch 90 | loss: 0.01555 | val_logits_ll: 0.01677 |  0:03:11s\n",
      "epoch 100| loss: 0.01516 | val_logits_ll: 0.01667 |  0:03:33s\n",
      "epoch 110| loss: 0.01504 | val_logits_ll: 0.01679 |  0:03:55s\n",
      "epoch 120| loss: 0.01441 | val_logits_ll: 0.01695 |  0:04:16s\n",
      "epoch 130| loss: 0.01386 | val_logits_ll: 0.01719 |  0:04:38s\n",
      "epoch 140| loss: 0.01347 | val_logits_ll: 0.01744 |  0:05:00s\n",
      "\n",
      "Early stopping occured at epoch 142 with best_epoch = 92 and best_val_logits_ll = 0.01663\n",
      "Best weights from best epoch are automatically used!\n",
      "\u001b[33m ------------------------------------------------------------\n",
      "Successfully saved model at overfitting_SEED44_FOLD6.zip\n"
     ]
    }
   ],
   "source": [
    "scores_auc_all = []\n",
    "test_cv_preds = []\n",
    "\n",
    "NB_SPLITS = 7 # 7\n",
    "mskf = MultilabelStratifiedKFold(n_splits = NB_SPLITS, random_state = 0, shuffle = True)\n",
    "\n",
    "oof_preds = []\n",
    "oof_targets = []\n",
    "scores = []\n",
    "scores_auc = []\n",
    "SEED = (42,43,44) # \n",
    "for s in SEED:\n",
    "    tabnet_params['seed'] = s\n",
    "    for fold_nb, (train_idx, val_idx) in enumerate(mskf.split(train_df, targets)):\n",
    "        print(b_,\"FOLDS: \", r_, fold_nb + 1, y_, 'seed:', tabnet_params['seed'])\n",
    "        print(g_, '*' * 60, c_)\n",
    "    \n",
    "        X_train, y_train = train_df.values[train_idx, :], targets.values[train_idx, :]\n",
    "        X_val, y_val = train_df.values[val_idx, :], targets.values[val_idx, :]\n",
    "        ### Model ###\n",
    "        model = TabNetRegressor(**tabnet_params)\n",
    "        \n",
    "        ### Fit ###\n",
    "        # Another change to the original code\n",
    "        # virtual_batch_size of 32 instead of 128\n",
    "        model.fit(\n",
    "            X_train = X_train,\n",
    "            y_train = y_train,\n",
    "            eval_set = [(X_val, y_val)],\n",
    "            eval_name = [\"val\"],\n",
    "            eval_metric = [\"logits_ll\"],\n",
    "            max_epochs = MAX_EPOCH,\n",
    "            patience = 50,\n",
    "            batch_size = 1024, \n",
    "            virtual_batch_size = 32,\n",
    "            num_workers = 1,\n",
    "            drop_last = False,\n",
    "            # To use binary cross entropy because this is not a regression problem\n",
    "            loss_fn = F.binary_cross_entropy_with_logits\n",
    "        )\n",
    "        print(y_, '-' * 60)\n",
    "    \n",
    "        ### Predict on validation ###\n",
    "        preds_val = model.predict(X_val)\n",
    "        # Apply sigmoid to the predictions\n",
    "        preds = 1 / (1 + np.exp(-preds_val))\n",
    "        score = np.min(model.history[\"val_logits_ll\"])\n",
    "        \n",
    "        ### Save models ###\n",
    "        model_name = \"overfitting_\" + f\"SEED{s}_FOLD{fold_nb}\"\n",
    "        model.save_model(model_name)\n",
    "        \n",
    "        ### Save OOF for CV ###\n",
    "        oof_preds.append(preds_val)\n",
    "        oof_targets.append(y_val)\n",
    "        scores.append(score)\n",
    "    \n",
    "        ### Predict on test ###\n",
    "        preds_test = model.predict(X_test)\n",
    "        test_cv_preds.append(1 / (1 + np.exp(-preds_test)))\n",
    "\n",
    "oof_preds_all = np.concatenate(oof_preds)\n",
    "oof_targets_all = np.concatenate(oof_targets)\n",
    "test_preds_all = np.stack(test_cv_preds)"
   ]
  },
  {
   "cell_type": "code",
   "execution_count": 29,
   "metadata": {
    "execution": {
     "iopub.execute_input": "2020-11-10T09:23:42.320955Z",
     "iopub.status.busy": "2020-11-10T09:23:42.319798Z",
     "iopub.status.idle": "2020-11-10T09:23:46.070468Z",
     "shell.execute_reply": "2020-11-10T09:23:46.069764Z"
    },
    "papermill": {
     "duration": 3.926512,
     "end_time": "2020-11-10T09:23:46.070593",
     "exception": false,
     "start_time": "2020-11-10T09:23:42.144081",
     "status": "completed"
    },
    "tags": []
   },
   "outputs": [
    {
     "name": "stdout",
     "output_type": "stream",
     "text": [
      "\u001b[34mOverall AUC: \u001b[31m0.753505791634776\n",
      "\u001b[34mAverage CV: \u001b[31m0.01657436122151939\n"
     ]
    }
   ],
   "source": [
    "aucs = []\n",
    "for task_id in range(oof_preds_all.shape[1]):\n",
    "    aucs.append(roc_auc_score(y_true = oof_targets_all[:, task_id],\n",
    "                              y_score = oof_preds_all[:, task_id]\n",
    "                             ))\n",
    "print(f\"{b_}Overall AUC: {r_}{np.mean(aucs)}\")\n",
    "print(f\"{b_}Average CV: {r_}{np.mean(scores)}\")"
   ]
  },
  {
   "cell_type": "code",
   "execution_count": 30,
   "metadata": {
    "execution": {
     "iopub.execute_input": "2020-11-10T09:23:46.411630Z",
     "iopub.status.busy": "2020-11-10T09:23:46.410728Z",
     "iopub.status.idle": "2020-11-10T09:23:46.414604Z",
     "shell.execute_reply": "2020-11-10T09:23:46.412328Z"
    },
    "papermill": {
     "duration": 0.178159,
     "end_time": "2020-11-10T09:23:46.414757",
     "exception": false,
     "start_time": "2020-11-10T09:23:46.236598",
     "status": "completed"
    },
    "tags": []
   },
   "outputs": [
    {
     "name": "stdout",
     "output_type": "stream",
     "text": [
      "(65844, 206)\n",
      "(65844, 206)\n",
      "(65844, 206)\n",
      "44\n"
     ]
    }
   ],
   "source": [
    "print(oof_preds_all.shape)\n",
    "print(oof_targets_all.shape)\n",
    "print(oof_preds_all.shape)\n",
    "print(tabnet_params['seed'])"
   ]
  },
  {
   "cell_type": "markdown",
   "metadata": {
    "papermill": {
     "duration": 0.162864,
     "end_time": "2020-11-10T09:23:47.398841",
     "exception": false,
     "start_time": "2020-11-10T09:23:47.235977",
     "status": "completed"
    },
    "tags": []
   },
   "source": [
    "# <font color = \"seagreen\">Submission</font>"
   ]
  },
  {
   "cell_type": "code",
   "execution_count": 31,
   "metadata": {
    "execution": {
     "iopub.execute_input": "2020-11-10T09:23:47.734310Z",
     "iopub.status.busy": "2020-11-10T09:23:47.731260Z",
     "iopub.status.idle": "2020-11-10T09:23:50.143001Z",
     "shell.execute_reply": "2020-11-10T09:23:50.141971Z"
    },
    "papermill": {
     "duration": 2.579014,
     "end_time": "2020-11-10T09:23:50.143139",
     "exception": false,
     "start_time": "2020-11-10T09:23:47.564125",
     "status": "completed"
    },
    "tags": []
   },
   "outputs": [
    {
     "data": {
      "text/html": [
       "<div>\n",
       "<style scoped>\n",
       "    .dataframe tbody tr th:only-of-type {\n",
       "        vertical-align: middle;\n",
       "    }\n",
       "\n",
       "    .dataframe tbody tr th {\n",
       "        vertical-align: top;\n",
       "    }\n",
       "\n",
       "    .dataframe thead th {\n",
       "        text-align: right;\n",
       "    }\n",
       "</style>\n",
       "<table border=\"1\" class=\"dataframe\">\n",
       "  <thead>\n",
       "    <tr style=\"text-align: right;\">\n",
       "      <th></th>\n",
       "      <th>sig_id</th>\n",
       "      <th>5-alpha_reductase_inhibitor</th>\n",
       "      <th>11-beta-hsd1_inhibitor</th>\n",
       "      <th>acat_inhibitor</th>\n",
       "      <th>acetylcholine_receptor_agonist</th>\n",
       "      <th>acetylcholine_receptor_antagonist</th>\n",
       "      <th>acetylcholinesterase_inhibitor</th>\n",
       "      <th>adenosine_receptor_agonist</th>\n",
       "      <th>adenosine_receptor_antagonist</th>\n",
       "      <th>adenylyl_cyclase_activator</th>\n",
       "      <th>...</th>\n",
       "      <th>tropomyosin_receptor_kinase_inhibitor</th>\n",
       "      <th>trpv_agonist</th>\n",
       "      <th>trpv_antagonist</th>\n",
       "      <th>tubulin_inhibitor</th>\n",
       "      <th>tyrosine_kinase_inhibitor</th>\n",
       "      <th>ubiquitin_specific_protease_inhibitor</th>\n",
       "      <th>vegfr_inhibitor</th>\n",
       "      <th>vitamin_b</th>\n",
       "      <th>vitamin_d_receptor_agonist</th>\n",
       "      <th>wnt_inhibitor</th>\n",
       "    </tr>\n",
       "  </thead>\n",
       "  <tbody>\n",
       "    <tr>\n",
       "      <th>0</th>\n",
       "      <td>id_0004d9e33</td>\n",
       "      <td>0.001073</td>\n",
       "      <td>0.001121</td>\n",
       "      <td>0.002102</td>\n",
       "      <td>0.015225</td>\n",
       "      <td>0.019716</td>\n",
       "      <td>0.004599</td>\n",
       "      <td>0.003030</td>\n",
       "      <td>0.006009</td>\n",
       "      <td>0.000331</td>\n",
       "      <td>...</td>\n",
       "      <td>0.000823</td>\n",
       "      <td>0.001172</td>\n",
       "      <td>0.004524</td>\n",
       "      <td>0.000553</td>\n",
       "      <td>0.000770</td>\n",
       "      <td>0.000623</td>\n",
       "      <td>0.000791</td>\n",
       "      <td>0.001995</td>\n",
       "      <td>0.004526</td>\n",
       "      <td>0.001901</td>\n",
       "    </tr>\n",
       "    <tr>\n",
       "      <th>1</th>\n",
       "      <td>id_001897cda</td>\n",
       "      <td>0.000613</td>\n",
       "      <td>0.001117</td>\n",
       "      <td>0.001753</td>\n",
       "      <td>0.002406</td>\n",
       "      <td>0.001742</td>\n",
       "      <td>0.002109</td>\n",
       "      <td>0.002705</td>\n",
       "      <td>0.009741</td>\n",
       "      <td>0.002922</td>\n",
       "      <td>...</td>\n",
       "      <td>0.000831</td>\n",
       "      <td>0.001563</td>\n",
       "      <td>0.003923</td>\n",
       "      <td>0.000772</td>\n",
       "      <td>0.008514</td>\n",
       "      <td>0.000663</td>\n",
       "      <td>0.011450</td>\n",
       "      <td>0.001416</td>\n",
       "      <td>0.007335</td>\n",
       "      <td>0.003224</td>\n",
       "    </tr>\n",
       "    <tr>\n",
       "      <th>2</th>\n",
       "      <td>id_002429b5b</td>\n",
       "      <td>0.000000</td>\n",
       "      <td>0.000000</td>\n",
       "      <td>0.000000</td>\n",
       "      <td>0.000000</td>\n",
       "      <td>0.000000</td>\n",
       "      <td>0.000000</td>\n",
       "      <td>0.000000</td>\n",
       "      <td>0.000000</td>\n",
       "      <td>0.000000</td>\n",
       "      <td>...</td>\n",
       "      <td>0.000000</td>\n",
       "      <td>0.000000</td>\n",
       "      <td>0.000000</td>\n",
       "      <td>0.000000</td>\n",
       "      <td>0.000000</td>\n",
       "      <td>0.000000</td>\n",
       "      <td>0.000000</td>\n",
       "      <td>0.000000</td>\n",
       "      <td>0.000000</td>\n",
       "      <td>0.000000</td>\n",
       "    </tr>\n",
       "    <tr>\n",
       "      <th>3</th>\n",
       "      <td>id_00276f245</td>\n",
       "      <td>0.000969</td>\n",
       "      <td>0.000987</td>\n",
       "      <td>0.001609</td>\n",
       "      <td>0.009138</td>\n",
       "      <td>0.015682</td>\n",
       "      <td>0.004143</td>\n",
       "      <td>0.002984</td>\n",
       "      <td>0.005281</td>\n",
       "      <td>0.000308</td>\n",
       "      <td>...</td>\n",
       "      <td>0.000555</td>\n",
       "      <td>0.002128</td>\n",
       "      <td>0.002781</td>\n",
       "      <td>0.012330</td>\n",
       "      <td>0.003949</td>\n",
       "      <td>0.000619</td>\n",
       "      <td>0.001446</td>\n",
       "      <td>0.001680</td>\n",
       "      <td>0.000393</td>\n",
       "      <td>0.001542</td>\n",
       "    </tr>\n",
       "    <tr>\n",
       "      <th>4</th>\n",
       "      <td>id_0027f1083</td>\n",
       "      <td>0.001578</td>\n",
       "      <td>0.001388</td>\n",
       "      <td>0.001508</td>\n",
       "      <td>0.013278</td>\n",
       "      <td>0.021092</td>\n",
       "      <td>0.004895</td>\n",
       "      <td>0.003875</td>\n",
       "      <td>0.003227</td>\n",
       "      <td>0.000480</td>\n",
       "      <td>...</td>\n",
       "      <td>0.000715</td>\n",
       "      <td>0.000758</td>\n",
       "      <td>0.002710</td>\n",
       "      <td>0.001001</td>\n",
       "      <td>0.001344</td>\n",
       "      <td>0.000686</td>\n",
       "      <td>0.000799</td>\n",
       "      <td>0.001869</td>\n",
       "      <td>0.000496</td>\n",
       "      <td>0.001921</td>\n",
       "    </tr>\n",
       "  </tbody>\n",
       "</table>\n",
       "<p>5 rows × 207 columns</p>\n",
       "</div>"
      ],
      "text/plain": [
       "         sig_id  5-alpha_reductase_inhibitor  11-beta-hsd1_inhibitor  \\\n",
       "0  id_0004d9e33                     0.001073                0.001121   \n",
       "1  id_001897cda                     0.000613                0.001117   \n",
       "2  id_002429b5b                     0.000000                0.000000   \n",
       "3  id_00276f245                     0.000969                0.000987   \n",
       "4  id_0027f1083                     0.001578                0.001388   \n",
       "\n",
       "   acat_inhibitor  acetylcholine_receptor_agonist  \\\n",
       "0        0.002102                        0.015225   \n",
       "1        0.001753                        0.002406   \n",
       "2        0.000000                        0.000000   \n",
       "3        0.001609                        0.009138   \n",
       "4        0.001508                        0.013278   \n",
       "\n",
       "   acetylcholine_receptor_antagonist  acetylcholinesterase_inhibitor  \\\n",
       "0                           0.019716                        0.004599   \n",
       "1                           0.001742                        0.002109   \n",
       "2                           0.000000                        0.000000   \n",
       "3                           0.015682                        0.004143   \n",
       "4                           0.021092                        0.004895   \n",
       "\n",
       "   adenosine_receptor_agonist  adenosine_receptor_antagonist  \\\n",
       "0                    0.003030                       0.006009   \n",
       "1                    0.002705                       0.009741   \n",
       "2                    0.000000                       0.000000   \n",
       "3                    0.002984                       0.005281   \n",
       "4                    0.003875                       0.003227   \n",
       "\n",
       "   adenylyl_cyclase_activator  ...  tropomyosin_receptor_kinase_inhibitor  \\\n",
       "0                    0.000331  ...                               0.000823   \n",
       "1                    0.002922  ...                               0.000831   \n",
       "2                    0.000000  ...                               0.000000   \n",
       "3                    0.000308  ...                               0.000555   \n",
       "4                    0.000480  ...                               0.000715   \n",
       "\n",
       "   trpv_agonist  trpv_antagonist  tubulin_inhibitor  \\\n",
       "0      0.001172         0.004524           0.000553   \n",
       "1      0.001563         0.003923           0.000772   \n",
       "2      0.000000         0.000000           0.000000   \n",
       "3      0.002128         0.002781           0.012330   \n",
       "4      0.000758         0.002710           0.001001   \n",
       "\n",
       "   tyrosine_kinase_inhibitor  ubiquitin_specific_protease_inhibitor  \\\n",
       "0                   0.000770                               0.000623   \n",
       "1                   0.008514                               0.000663   \n",
       "2                   0.000000                               0.000000   \n",
       "3                   0.003949                               0.000619   \n",
       "4                   0.001344                               0.000686   \n",
       "\n",
       "   vegfr_inhibitor  vitamin_b  vitamin_d_receptor_agonist  wnt_inhibitor  \n",
       "0         0.000791   0.001995                    0.004526       0.001901  \n",
       "1         0.011450   0.001416                    0.007335       0.003224  \n",
       "2         0.000000   0.000000                    0.000000       0.000000  \n",
       "3         0.001446   0.001680                    0.000393       0.001542  \n",
       "4         0.000799   0.001869                    0.000496       0.001921  \n",
       "\n",
       "[5 rows x 207 columns]"
      ]
     },
     "execution_count": 31,
     "metadata": {},
     "output_type": "execute_result"
    }
   ],
   "source": [
    "all_feat = [col for col in submission.columns if col not in [\"sig_id\"]]\n",
    "# To obtain the same lenght of test_preds_all and submission\n",
    "test = pd.read_csv(data_path + \"test_features.csv\")\n",
    "sig_id = test[test[\"cp_type\"] != \"ctl_vehicle\"].sig_id.reset_index(drop = True)\n",
    "tmp = pd.DataFrame(test_preds_all.mean(axis = 0), columns = all_feat)\n",
    "tmp[\"sig_id\"] = sig_id\n",
    "\n",
    "submission = pd.merge(test[[\"sig_id\"]], tmp, on = \"sig_id\", how = \"left\")\n",
    "submission.fillna(0, inplace = True)\n",
    "\n",
    "#submission[all_feat] = tmp.mean(axis = 0)\n",
    "\n",
    "# Set control to 0\n",
    "#submission.loc[test[\"cp_type\"] == 0, submission.columns[1:]] = 0\n",
    "submission.to_csv(\"submission6.csv\", index = None)\n",
    "submission.head()"
   ]
  },
  {
   "cell_type": "code",
   "execution_count": 32,
   "metadata": {
    "execution": {
     "iopub.execute_input": "2020-11-10T09:23:50.515981Z",
     "iopub.status.busy": "2020-11-10T09:23:50.515153Z",
     "iopub.status.idle": "2020-11-10T09:23:50.520644Z",
     "shell.execute_reply": "2020-11-10T09:23:50.521411Z"
    },
    "papermill": {
     "duration": 0.190368,
     "end_time": "2020-11-10T09:23:50.521586",
     "exception": false,
     "start_time": "2020-11-10T09:23:50.331218",
     "status": "completed"
    },
    "tags": []
   },
   "outputs": [
    {
     "name": "stdout",
     "output_type": "stream",
     "text": [
      "\u001b[34msubmission.shape: \u001b[31m(3982, 207)\n"
     ]
    }
   ],
   "source": [
    "print(f\"{b_}submission.shape: {r_}{submission.shape}\")"
   ]
  }
 ],
 "metadata": {
  "kernelspec": {
   "display_name": "Python 3",
   "language": "python",
   "name": "python3"
  },
  "language_info": {
   "codemirror_mode": {
    "name": "ipython",
    "version": 3
   },
   "file_extension": ".py",
   "mimetype": "text/x-python",
   "name": "python",
   "nbconvert_exporter": "python",
   "pygments_lexer": "ipython3",
   "version": "3.7.9"
  },
  "papermill": {
   "duration": 5234.848717,
   "end_time": "2020-11-10T09:23:52.132683",
   "environment_variables": {},
   "exception": null,
   "input_path": "__notebook__.ipynb",
   "output_path": "__notebook__.ipynb",
   "parameters": {},
   "start_time": "2020-11-10T07:56:37.283966",
   "version": "2.1.0"
  }
 },
 "nbformat": 4,
 "nbformat_minor": 4
}
